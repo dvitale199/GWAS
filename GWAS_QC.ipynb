{
 "cells": [
  {
   "cell_type": "markdown",
   "metadata": {},
   "source": [
    "# GWAS Pipeline: Quality Control and Imputation"
   ]
  },
  {
   "cell_type": "code",
   "execution_count": null,
   "metadata": {},
   "outputs": [],
   "source": [
    "import subprocess\n",
    "import argparse\n",
    "import pandas as pd\n",
    "import sys\n",
    "import os\n",
    "from sys import platform\n",
    "import random"
   ]
  },
  {
   "cell_type": "markdown",
   "metadata": {},
   "source": [
    "## Quality Control Pipeline\n",
    "QC can be run by calling run_qc.py and pointing to the genotypes. Below is a test run which uses a small, random subset of anonymized genotypes for demonstration purposes. you must input with absolute path at the moment"
   ]
  },
  {
   "cell_type": "code",
   "execution_count": null,
   "metadata": {},
   "outputs": [],
   "source": [
    "# Run data munging script to prepare data for GWAS\n",
    "%run -i run_qc.py\\\n",
    "--geno test_data/test_data"
   ]
  },
  {
   "cell_type": "markdown",
   "metadata": {},
   "source": [
    "## Imputation Pipeline\n",
    "Imputation can be run by calling run_imputation.py and pointing to your genotypes and providing a Michigan Imputation Server API key (which can be generated here: https://imputationserver.sph.umich.edu/index.html#).\n",
    "This script automates the preprocessing (HRC referencing steps and per-chromosome vcf generation) and will submit VCFs to the server and then make timed requests and pull the imputed data upon completion.\n",
    "\n",
    "#### Important notes: \n",
    "- This will not work on test data! but you can give an API key and run the cell below for demonstration. due to the nature of the fake data, the VCFs will not be generated properly and thus will not be submitted. When you run the cell below with your own key, it will return an error telling you the job has failed.\n",
    "- if this has already been run and you have an 'imputed' directory in the same location as the genotypes, it will return a \"FileExistsError: [Errno 17] File exists: <path/to/imputed/\". This is something that will be fixed going forward"
   ]
  },
  {
   "cell_type": "code",
   "execution_count": null,
   "metadata": {},
   "outputs": [],
   "source": [
    "# run imputation!!!!!\n",
    "%run -i run_imputation.py\\\n",
    "--geno test_data/test_data_call_rate_het_sex_relatedness_variant_final\\\n",
    "--key <copy and paste key here>"
   ]
  },
  {
   "cell_type": "code",
   "execution_count": null,
   "metadata": {},
   "outputs": [],
   "source": []
  },
  {
   "cell_type": "code",
   "execution_count": null,
   "metadata": {},
   "outputs": [],
   "source": []
  }
 ],
 "metadata": {
  "kernelspec": {
   "display_name": "Python 3",
   "language": "python",
   "name": "python3"
  },
  "language_info": {
   "codemirror_mode": {
    "name": "ipython",
    "version": 3
   },
   "file_extension": ".py",
   "mimetype": "text/x-python",
   "name": "python",
   "nbconvert_exporter": "python",
   "pygments_lexer": "ipython3",
   "version": "3.6.7"
  }
 },
 "nbformat": 4,
 "nbformat_minor": 4
}
