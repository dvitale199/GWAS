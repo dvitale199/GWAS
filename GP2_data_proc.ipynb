{
 "cells": [
  {
   "cell_type": "code",
   "execution_count": 5,
   "metadata": {},
   "outputs": [],
   "source": [
    "import pandas as pd\n",
    "import os\n",
    "import shutil"
   ]
  },
  {
   "cell_type": "code",
   "execution_count": 48,
   "metadata": {},
   "outputs": [],
   "source": [
    "basedir = '/data/CARD/PD/GP2/raw_genotypes'\n",
    "out_genotypes = '/data/CARD/PD/GP2/genotypes'\n",
    "shulman_ny_path = f'{basedir}/shulman_ny'\n",
    "gtc_file_path = f'{shulman_ny_path}/GP2_GCT_files'\n",
    "idat_file_path = f'{shulman_ny_path}/GP2_Shulman'\n",
    "key_file = f'{gtc_file_path}/Key File_FINAL_Shulman_and_NY_011421.txt'\n",
    "manifest_txt_path = f'{gtc_file_path}/FINALSS_after_rerun__Shulman_and_NY_011421.csv'\n",
    "bpm = f'{gtc_file_path}/NeuroBooster_20042459_A1.bpm'\n",
    "cluster_file = f'{gtc_file_path}/NBSCluster_file_n1393_011921.egt'\n",
    "\n",
    "#software paths\n",
    "GTCtoVCF = 'GTCtoVCF/gtc_to_vcf.py'\n",
    "iaap = 'iaap-cli-linux-x64-1.1.0-sha.80d7e5b3d9c1fdfc2e99b472a90652fd3848bbc7/iaap-cli/iaap-cli'\n",
    "\n",
    "ref_fasta = 'ref_data/hg38_ref.fa'\n",
    "shulman_gtc_path = f'{basedir}/SHULMAN/gtc_files'\n",
    "shulman_idat_path = f'{basedir}/SHULMAN/idats'\n",
    "shulman_out = f'{out_genotypes}/SHULMAN'\n",
    "ny_gtc_path = f'{basedir}/NY/gtc_files'\n",
    "ny_idat_path = f'{basedir}/NY/idats'\n",
    "ny_out = f'{out_genotypes}/NY'\n"
   ]
  },
  {
   "cell_type": "code",
   "execution_count": 7,
   "metadata": {},
   "outputs": [
    {
     "data": {
      "text/html": [
       "<div>\n",
       "<style scoped>\n",
       "    .dataframe tbody tr th:only-of-type {\n",
       "        vertical-align: middle;\n",
       "    }\n",
       "\n",
       "    .dataframe tbody tr th {\n",
       "        vertical-align: top;\n",
       "    }\n",
       "\n",
       "    .dataframe thead th {\n",
       "        text-align: right;\n",
       "    }\n",
       "</style>\n",
       "<table border=\"1\" class=\"dataframe\">\n",
       "  <thead>\n",
       "    <tr style=\"text-align: right;\">\n",
       "      <th></th>\n",
       "      <th>Sample_ID</th>\n",
       "      <th>Plate Number</th>\n",
       "      <th>Sample_Well</th>\n",
       "      <th>SentrixBarcode_A</th>\n",
       "      <th>SentrixPosition_A</th>\n",
       "      <th>Gender</th>\n",
       "      <th>Study</th>\n",
       "      <th>Batch Id</th>\n",
       "    </tr>\n",
       "  </thead>\n",
       "  <tbody>\n",
       "    <tr>\n",
       "      <th>0</th>\n",
       "      <td>6723</td>\n",
       "      <td>1</td>\n",
       "      <td>A1</td>\n",
       "      <td>204697840024</td>\n",
       "      <td>R01C01</td>\n",
       "      <td>Male</td>\n",
       "      <td>Shulman</td>\n",
       "      <td>1</td>\n",
       "    </tr>\n",
       "    <tr>\n",
       "      <th>1</th>\n",
       "      <td>7522</td>\n",
       "      <td>1</td>\n",
       "      <td>B1</td>\n",
       "      <td>204697840024</td>\n",
       "      <td>R02C01</td>\n",
       "      <td>Male</td>\n",
       "      <td>Shulman</td>\n",
       "      <td>1</td>\n",
       "    </tr>\n",
       "    <tr>\n",
       "      <th>2</th>\n",
       "      <td>7525</td>\n",
       "      <td>1</td>\n",
       "      <td>C1</td>\n",
       "      <td>204697840024</td>\n",
       "      <td>R03C01</td>\n",
       "      <td>Male</td>\n",
       "      <td>Shulman</td>\n",
       "      <td>1</td>\n",
       "    </tr>\n",
       "    <tr>\n",
       "      <th>3</th>\n",
       "      <td>7532</td>\n",
       "      <td>1</td>\n",
       "      <td>D1</td>\n",
       "      <td>204697840024</td>\n",
       "      <td>R04C01</td>\n",
       "      <td>Female</td>\n",
       "      <td>Shulman</td>\n",
       "      <td>1</td>\n",
       "    </tr>\n",
       "    <tr>\n",
       "      <th>4</th>\n",
       "      <td>7539</td>\n",
       "      <td>1</td>\n",
       "      <td>E1</td>\n",
       "      <td>204697840024</td>\n",
       "      <td>R05C01</td>\n",
       "      <td>Male</td>\n",
       "      <td>Shulman</td>\n",
       "      <td>1</td>\n",
       "    </tr>\n",
       "    <tr>\n",
       "      <th>...</th>\n",
       "      <td>...</td>\n",
       "      <td>...</td>\n",
       "      <td>...</td>\n",
       "      <td>...</td>\n",
       "      <td>...</td>\n",
       "      <td>...</td>\n",
       "      <td>...</td>\n",
       "      <td>...</td>\n",
       "    </tr>\n",
       "    <tr>\n",
       "      <th>1388</th>\n",
       "      <td>MBA_LSDA_101</td>\n",
       "      <td>2</td>\n",
       "      <td>E1</td>\n",
       "      <td>204701870002</td>\n",
       "      <td>R05C01</td>\n",
       "      <td>Female</td>\n",
       "      <td>NY</td>\n",
       "      <td>8</td>\n",
       "    </tr>\n",
       "    <tr>\n",
       "      <th>1389</th>\n",
       "      <td>MBA_LSDA_102</td>\n",
       "      <td>2</td>\n",
       "      <td>F1</td>\n",
       "      <td>204701870002</td>\n",
       "      <td>R06C01</td>\n",
       "      <td>Female</td>\n",
       "      <td>NY</td>\n",
       "      <td>8</td>\n",
       "    </tr>\n",
       "    <tr>\n",
       "      <th>1390</th>\n",
       "      <td>MBA_LSDA_103</td>\n",
       "      <td>2</td>\n",
       "      <td>G1</td>\n",
       "      <td>204701870002</td>\n",
       "      <td>R07C01</td>\n",
       "      <td>Male</td>\n",
       "      <td>NY</td>\n",
       "      <td>8</td>\n",
       "    </tr>\n",
       "    <tr>\n",
       "      <th>1391</th>\n",
       "      <td>MBA_LSDA_104</td>\n",
       "      <td>2</td>\n",
       "      <td>H1</td>\n",
       "      <td>204701870002</td>\n",
       "      <td>R08C01</td>\n",
       "      <td>Male</td>\n",
       "      <td>NY</td>\n",
       "      <td>8</td>\n",
       "    </tr>\n",
       "    <tr>\n",
       "      <th>1392</th>\n",
       "      <td>MBA_LSDA_105</td>\n",
       "      <td>2</td>\n",
       "      <td>A2</td>\n",
       "      <td>204701870029</td>\n",
       "      <td>R01C01</td>\n",
       "      <td>Male</td>\n",
       "      <td>NY</td>\n",
       "      <td>8</td>\n",
       "    </tr>\n",
       "  </tbody>\n",
       "</table>\n",
       "<p>1393 rows × 8 columns</p>\n",
       "</div>"
      ],
      "text/plain": [
       "         Sample_ID  Plate Number Sample_Well  SentrixBarcode_A  \\\n",
       "0             6723             1          A1      204697840024   \n",
       "1             7522             1          B1      204697840024   \n",
       "2             7525             1          C1      204697840024   \n",
       "3             7532             1          D1      204697840024   \n",
       "4             7539             1          E1      204697840024   \n",
       "...            ...           ...         ...               ...   \n",
       "1388  MBA_LSDA_101             2          E1      204701870002   \n",
       "1389  MBA_LSDA_102             2          F1      204701870002   \n",
       "1390  MBA_LSDA_103             2          G1      204701870002   \n",
       "1391  MBA_LSDA_104             2          H1      204701870002   \n",
       "1392  MBA_LSDA_105             2          A2      204701870029   \n",
       "\n",
       "     SentrixPosition_A  Gender    Study  Batch Id  \n",
       "0               R01C01    Male  Shulman         1  \n",
       "1               R02C01    Male  Shulman         1  \n",
       "2               R03C01    Male  Shulman         1  \n",
       "3               R04C01  Female  Shulman         1  \n",
       "4               R05C01    Male  Shulman         1  \n",
       "...                ...     ...      ...       ...  \n",
       "1388            R05C01  Female       NY         8  \n",
       "1389            R06C01  Female       NY         8  \n",
       "1390            R07C01    Male       NY         8  \n",
       "1391            R08C01    Male       NY         8  \n",
       "1392            R01C01    Male       NY         8  \n",
       "\n",
       "[1393 rows x 8 columns]"
      ]
     },
     "execution_count": 7,
     "metadata": {},
     "output_type": "execute_result"
    }
   ],
   "source": [
    "manifest = pd.read_csv(manifest_txt_path, header=10)\n",
    "# key = pd.read_csv(key_file, sep='\\t')\n",
    "manifest"
   ]
  },
  {
   "cell_type": "code",
   "execution_count": 25,
   "metadata": {},
   "outputs": [
    {
     "name": "stdout",
     "output_type": "stream",
     "text": [
      "mkdir: cannot create directory '/data/CARD/PD/GP2/raw_genotypes/SHULMAN': File exists\n",
      "mkdir: cannot create directory '/data/CARD/PD/GP2/raw_genotypes/NY': File exists\n",
      "mkdir: cannot create directory '/data/CARD/PD/GP2/raw_genotypes/SHULMAN/gtc_files': File exists\n",
      "mkdir: cannot create directory '/data/CARD/PD/GP2/raw_genotypes/NY/gtc_files': File exists\n",
      "mkdir: cannot create directory '/data/CARD/PD/GP2/raw_genotypes/SHULMAN/idats': File exists\n",
      "mkdir: cannot create directory '/data/CARD/PD/GP2/raw_genotypes/NY/idats': File exists\n",
      "mkdir: cannot create directory '/data/CARD/PD/GP2/genotypes': File exists\n",
      "mkdir: cannot create directory '/data/CARD/PD/GP2/genotypes/SHULMAN': File exists\n",
      "mkdir: cannot create directory '/data/CARD/PD/GP2/genotypes/SHULMAN/vcfs': File exists\n",
      "mkdir: cannot create directory '/data/CARD/PD/GP2/genotypes/NY': File exists\n",
      "mkdir: cannot create directory '/data/CARD/PD/GP2/genotypes/NY/vcfs': File exists\n"
     ]
    }
   ],
   "source": [
    "# create new directories to store split cohorts\n",
    "!mkdir {basedir}/SHULMAN\n",
    "!mkdir {basedir}/NY\n",
    "!mkdir {basedir}/SHULMAN/gtc_files\n",
    "!mkdir {basedir}/NY/gtc_files\n",
    "!mkdir {basedir}/SHULMAN/idats\n",
    "!mkdir {basedir}/NY/idats\n",
    "!mkdir {out_genotypes}\n",
    "!mkdir {out_genotypes}/SHULMAN\n",
    "!mkdir {out_genotypes}/SHULMAN/vcfs\n",
    "!mkdir {out_genotypes}/SHULMAN/peds\n",
    "!mkdir {out_genotypes}/NY\n",
    "!mkdir {out_genotypes}/NY/vcfs\n",
    "!mkdir {out_genotypes}/NY/peds\n"
   ]
  },
  {
   "cell_type": "code",
   "execution_count": 8,
   "metadata": {},
   "outputs": [],
   "source": [
    "# create filenaames and split manifest into respective cohorts\n",
    "manifest['filename'] = manifest['SentrixBarcode_A'].astype(str) + '_' + manifest['SentrixPosition_A']\n",
    "shulman = manifest.loc[manifest.Study == 'Shulman']\n",
    "ny = manifest.loc[manifest.Study == 'NY']"
   ]
  },
  {
   "cell_type": "code",
   "execution_count": 38,
   "metadata": {},
   "outputs": [],
   "source": [
    "# copy files to respective directories\n",
    "# for filename in shulman.filename:\n",
    "#     shutil.copyfile(src=f'{gtc_file_path}/{filename}.gtc',dst=f'{basedir}/SHULMAN/gtc_files/{filename}.gtc')\n",
    "# for filename in ny.filename:\n",
    "#     shutil.copyfile(src=f'{gtc_file_path}/{filename}.gtc',dst=f'{basedir}/NY/gtc_files/{filename}.gtc')   "
   ]
  },
  {
   "cell_type": "code",
   "execution_count": 39,
   "metadata": {},
   "outputs": [],
   "source": [
    "# now clone ILMN GTCtoVCF github repo\n",
    "# !git clone https://github.com/Illumina/GTCtoVCF.git\n",
    "# get hg38 reference\n",
    "# !wget https://ftp.ncbi.nlm.nih.gov/genomes/all/GCF/000/001/405/GCF_000001405.26_GRCh38/GCF_000001405.26_GRCh38_genomic.fna.gz -P ref_data\n",
    "# !gunzip ref_data/GCF_000001405.26_GRCh38_genomic.fna.gz"
   ]
  },
  {
   "cell_type": "code",
   "execution_count": 9,
   "metadata": {},
   "outputs": [],
   "source": [
    "# swarm command to run in parallel\n",
    "with open('shulman_gtc_to_vcf.swarm','w') as f:\n",
    "    \n",
    "    for filename in shulman.filename:\n",
    "        \n",
    "        shulman_gtc_to_vcf_cmd = f'\\\n",
    "python3 {GTCtoVCF} \\\n",
    "--gtc-paths {shulman_gtc_path}/{filename}.gtc \\\n",
    "--manifest-file {bpm} \\\n",
    "--genome-fasta-file {ref_fasta} \\\n",
    "--output-vcf-path {shulman_out}/vcfs/{filename}.vcf \\\n",
    "--skip-indels'\n",
    "        \n",
    "        f.write(f'{shulman_gtc_to_vcf_cmd}\\n')\n",
    "f.close()\n"
   ]
  },
  {
   "cell_type": "code",
   "execution_count": 10,
   "metadata": {},
   "outputs": [],
   "source": [
    "# !swarm -f shulman_gtc_to_vcf.swarm -g 16 -t 16 --time=10:00:00 --logdir swarm --gres=lscratch:20 --partition=norm"
   ]
  },
  {
   "cell_type": "code",
   "execution_count": 23,
   "metadata": {},
   "outputs": [],
   "source": [
    "# swarm command to run in parallel\n",
    "with open('ny_gtc_to_vcf.swarm','w') as f:\n",
    "    \n",
    "    for filename in ny.filename:\n",
    "        \n",
    "        ny_gtc_to_vcf_cmd = f'\\\n",
    "python3 {GTCtoVCF} \\\n",
    "--gtc-paths {ny_gtc_path}/{filename}.gtc \\\n",
    "--manifest-file {bpm} \\\n",
    "--genome-fasta-file {ref_fasta} \\\n",
    "--output-vcf-path {ny_out}/vcfs/{filename}.vcf \\\n",
    "--skip-indels'\n",
    "        \n",
    "        f.write(f'{ny_gtc_to_vcf_cmd}\\n')\n",
    "f.close()\n"
   ]
  },
  {
   "cell_type": "code",
   "execution_count": 24,
   "metadata": {},
   "outputs": [
    {
     "name": "stdout",
     "output_type": "stream",
     "text": [
      "6960101\n"
     ]
    }
   ],
   "source": [
    "!swarm -f ny_gtc_to_vcf.swarm -g 16 -t 16 --time=10:00:00 --logdir swarm --gres=lscratch:20 --partition=norm"
   ]
  },
  {
   "cell_type": "code",
   "execution_count": 43,
   "metadata": {},
   "outputs": [
    {
     "data": {
      "text/plain": [
       "0"
      ]
     },
     "execution_count": 43,
     "metadata": {},
     "output_type": "execute_result"
    }
   ],
   "source": [
    "# call genotypes from idats so we can compare gtc to idats at the end\n",
    "# create directory for each sentrix barcode A if they don't already exist\n",
    "for code in shulman.SentrixBarcode_A.unique():\n",
    "    if os.path.exists(f'{basedir}/SHULMAN/idats/{code}'):\n",
    "        print(f'{basedir}/SHULMAN/idats/{code} already exists')\n",
    "    else:\n",
    "        os.mkdir(f'{basedir}/SHULMAN/idats/{code}')\n",
    "\n",
    "missing_idats = []\n",
    "\n",
    "# split idats into respective cohorts and populated each sentrix barcode A directory\n",
    "for i, filename in enumerate(shulman.filename):\n",
    "    \n",
    "    grn = f'{idat_file_path}/{shulman.SentrixBarcode_A.iloc[i]}/{filename}_Grn.idat'\n",
    "    red = f'{idat_file_path}/{shulman.SentrixBarcode_A.iloc[i]}/{filename}_Red.idat'\n",
    "\n",
    "    if os.path.isfile(grn):\n",
    "        shutil.copyfile(src=grn, dst=f'{basedir}/SHULMAN/idats/{shulman.SentrixBarcode_A.iloc[i]}/{filename}_Grn.idat')\n",
    "    else:\n",
    "        missing_idats.append(grn)\n",
    "        \n",
    "    if os.path.isfile(red):\n",
    "        shutil.copyfile(src=red, dst=f'{basedir}/SHULMAN/idats/{shulman.SentrixBarcode_A.iloc[i]}/{filename}_Red.idat')\n",
    "    else:\n",
    "        missing_idats.append(red)\n",
    "    \n",
    "\n",
    "len(missing_idats)"
   ]
  },
  {
   "cell_type": "code",
   "execution_count": 45,
   "metadata": {},
   "outputs": [
    {
     "data": {
      "text/plain": [
       "0"
      ]
     },
     "execution_count": 45,
     "metadata": {},
     "output_type": "execute_result"
    }
   ],
   "source": [
    "# create directory for each sentrix barcode A if they don't already exist\n",
    "for code in ny.SentrixBarcode_A.unique():\n",
    "    if os.path.exists(f'{basedir}/NY/idats/{code}'):\n",
    "        print(f'{basedir}/NY/idats/{code} already exists')\n",
    "    else:\n",
    "        os.mkdir(f'{basedir}/NY/idats/{code}')\n",
    "        \n",
    "missing_idats = []\n",
    "# spit idats into respective cohorts\n",
    "for i, filename in enumerate(ny.filename):\n",
    "    grn = f'{idat_file_path}/{ny.SentrixBarcode_A.iloc[i]}/{filename}_Grn.idat'\n",
    "    red = f'{idat_file_path}/{ny.SentrixBarcode_A.iloc[i]}/{filename}_Red.idat'\n",
    "#     print(f'{idat_file_path}/{shulman.SentrixBarcode_A.iloc[i]}/{filename}_Grn.idat')\n",
    "#     print(f'{idat_file_path}/{shulman.SentrixBarcode_A.iloc[i]}/{filename}_Red.idat')\n",
    "    if os.path.isfile(grn):\n",
    "        shutil.copyfile(src=grn, dst=f'{basedir}/NY/idats/{ny.SentrixBarcode_A.iloc[i]}/{filename}_Grn.idat')\n",
    "    else:\n",
    "        missing_idats.append(grn)\n",
    "        \n",
    "    if os.path.isfile(red):\n",
    "        shutil.copyfile(src=red, dst=f'{basedir}/NY/idats/{ny.SentrixBarcode_A.iloc[i]}/{filename}_Red.idat')\n",
    "    else:\n",
    "        missing_idats.append(red)\n",
    "    \n",
    "\n",
    "len(missing_idats)"
   ]
  },
  {
   "cell_type": "code",
   "execution_count": 60,
   "metadata": {},
   "outputs": [],
   "source": [
    "# # swarm command to run in parallel\n",
    "with open('shulman_idat_to_ped.swarm','w') as f:\n",
    "    \n",
    "    for code in shulman.SentrixBarcode_A.unique():\n",
    "        \n",
    "        shulman_idat_to_ped_cmd = f'\\\n",
    "{iaap} gencall \\\n",
    "{bpm} \\\n",
    "{cluster_file} \\\n",
    "{shulman_out}/peds/ \\\n",
    "-f {shulman_idat_path}/{code} \\\n",
    "-p \\\n",
    "-t 16'\n",
    "        \n",
    "        f.write(f'{shulman_gtc_to_vcf_cmd}\\n')\n",
    "f.close()\n"
   ]
  },
  {
   "cell_type": "code",
   "execution_count": 63,
   "metadata": {},
   "outputs": [
    {
     "name": "stdout",
     "output_type": "stream",
     "text": [
      "6984907\n"
     ]
    }
   ],
   "source": [
    "!swarm -f shulman_idat_to_ped.swarm -g 32 -t 16 --time=10:00:00 --logdir swarm --gres=lscratch:20 --partition=norm"
   ]
  },
  {
   "cell_type": "code",
   "execution_count": null,
   "metadata": {},
   "outputs": [],
   "source": []
  },
  {
   "cell_type": "code",
   "execution_count": null,
   "metadata": {},
   "outputs": [],
   "source": []
  }
 ],
 "metadata": {
  "kernelspec": {
   "display_name": "Python 3",
   "language": "python",
   "name": "python3"
  },
  "language_info": {
   "codemirror_mode": {
    "name": "ipython",
    "version": 3
   },
   "file_extension": ".py",
   "mimetype": "text/x-python",
   "name": "python",
   "nbconvert_exporter": "python",
   "pygments_lexer": "ipython3",
   "version": "3.6.7"
  }
 },
 "nbformat": 4,
 "nbformat_minor": 4
}
