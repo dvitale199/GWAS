{
 "cells": [
  {
   "cell_type": "code",
   "execution_count": 1,
   "metadata": {},
   "outputs": [],
   "source": [
    "import pandas as pd\n",
    "import os\n",
    "import shutil"
   ]
  },
  {
   "cell_type": "code",
   "execution_count": 2,
   "metadata": {},
   "outputs": [],
   "source": [
    "basedir = '/data/CARD/PD/GP2/raw_genotypes'\n",
    "out_genotypes = '/data/CARD/PD/GP2/genotypes'\n",
    "shulman_ny_path = f'{basedir}/shulman_ny'\n",
    "gtc_file_path = f'{shulman_ny_path}/GP2_GCT_files'\n",
    "idat_file_path = f'{shulman_ny_path}/GP2_Shulman'\n",
    "key_file = f'{gtc_file_path}/Key File_FINAL_Shulman_and_NY_011421.txt'\n",
    "manifest_txt_path = f'{gtc_file_path}/FINALSS_after_rerun__Shulman_and_NY_011421.csv'\n",
    "bpm = f'{gtc_file_path}/NeuroBooster_20042459_A1.bpm'\n",
    "cluster_file = f'{gtc_file_path}/NBSCluster_file_n1393_011921.egt'\n",
    "\n",
    "#software paths\n",
    "GTCtoVCF = 'GTCtoVCF/gtc_to_vcf.py'\n",
    "iaap = 'iaap-cli-linux-x64-1.1.0-sha.80d7e5b3d9c1fdfc2e99b472a90652fd3848bbc7/iaap-cli/iaap-cli'\n",
    "\n",
    "ref_fasta = 'ref_data/hg38_ref.fa'\n",
    "shulman_gtc_path = f'{basedir}/SHULMAN/gtc_files'\n",
    "shulman_idat_path = f'{basedir}/SHULMAN/idats'\n",
    "shulman_out = f'{out_genotypes}/SHULMAN'\n",
    "ny_gtc_path = f'{basedir}/NY/gtc_files'\n",
    "ny_idat_path = f'{basedir}/NY/idats'\n",
    "ny_out = f'{out_genotypes}/NY'\n"
   ]
  },
  {
   "cell_type": "code",
   "execution_count": 12,
   "metadata": {},
   "outputs": [],
   "source": [
    "manifest = pd.read_csv(manifest_txt_path, header=10)\n",
    "# key = pd.read_csv(key_file, sep='\\t')"
   ]
  },
  {
   "cell_type": "code",
   "execution_count": 4,
   "metadata": {},
   "outputs": [
    {
     "output_type": "stream",
     "name": "stdout",
     "text": [
      "mkdir: cannot create directory '/data/CARD/PD/GP2/raw_genotypes/SHULMAN': File exists\n",
      "mkdir: cannot create directory '/data/CARD/PD/GP2/raw_genotypes/NY': File exists\n",
      "mkdir: cannot create directory '/data/CARD/PD/GP2/raw_genotypes/SHULMAN/gtc_files': File exists\n",
      "mkdir: cannot create directory '/data/CARD/PD/GP2/raw_genotypes/NY/gtc_files': File exists\n",
      "mkdir: cannot create directory '/data/CARD/PD/GP2/raw_genotypes/SHULMAN/idats': File exists\n",
      "mkdir: cannot create directory '/data/CARD/PD/GP2/raw_genotypes/NY/idats': File exists\n",
      "mkdir: cannot create directory '/data/CARD/PD/GP2/genotypes': File exists\n",
      "mkdir: cannot create directory '/data/CARD/PD/GP2/genotypes/SHULMAN': File exists\n",
      "mkdir: cannot create directory '/data/CARD/PD/GP2/genotypes/SHULMAN/vcfs': File exists\n",
      "mkdir: cannot create directory '/data/CARD/PD/GP2/genotypes/SHULMAN/peds': File exists\n",
      "mkdir: cannot create directory '/data/CARD/PD/GP2/genotypes/NY': File exists\n",
      "mkdir: cannot create directory '/data/CARD/PD/GP2/genotypes/NY/vcfs': File exists\n",
      "mkdir: cannot create directory '/data/CARD/PD/GP2/genotypes/NY/peds': File exists\n"
     ]
    }
   ],
   "source": [
    "# create new directories to store split cohorts\n",
    "!mkdir {basedir}/SHULMAN\n",
    "!mkdir {basedir}/NY\n",
    "!mkdir {basedir}/SHULMAN/gtc_files\n",
    "!mkdir {basedir}/NY/gtc_files\n",
    "!mkdir {basedir}/SHULMAN/idats\n",
    "!mkdir {basedir}/NY/idats\n",
    "!mkdir {out_genotypes}\n",
    "!mkdir {out_genotypes}/SHULMAN\n",
    "!mkdir {out_genotypes}/SHULMAN/vcfs\n",
    "!mkdir {out_genotypes}/SHULMAN/peds\n",
    "!mkdir {out_genotypes}/NY\n",
    "!mkdir {out_genotypes}/NY/vcfs\n",
    "!mkdir {out_genotypes}/NY/peds\n"
   ]
  },
  {
   "cell_type": "code",
   "execution_count": 5,
   "metadata": {},
   "outputs": [],
   "source": [
    "# create filenaames and split manifest into respective cohorts\n",
    "manifest['filename'] = manifest['SentrixBarcode_A'].astype(str) + '_' + manifest['SentrixPosition_A']\n",
    "shulman = manifest.loc[manifest.Study == 'Shulman']\n",
    "ny = manifest.loc[manifest.Study == 'NY']"
   ]
  },
  {
   "cell_type": "code",
   "execution_count": 6,
   "metadata": {},
   "outputs": [],
   "source": [
    "# copy files to respective directories\n",
    "# for filename in shulman.filename:\n",
    "#     shutil.copyfile(src=f'{gtc_file_path}/{filename}.gtc',dst=f'{basedir}/SHULMAN/gtc_files/{filename}.gtc')\n",
    "# for filename in ny.filename:\n",
    "#     shutil.copyfile(src=f'{gtc_file_path}/{filename}.gtc',dst=f'{basedir}/NY/gtc_files/{filename}.gtc')   "
   ]
  },
  {
   "cell_type": "code",
   "execution_count": 7,
   "metadata": {},
   "outputs": [],
   "source": [
    "# now clone ILMN GTCtoVCF github repo\n",
    "# !git clone https://github.com/Illumina/GTCtoVCF.git\n",
    "# get hg38 reference\n",
    "# !wget https://ftp.ncbi.nlm.nih.gov/genomes/all/GCF/000/001/405/GCF_000001405.26_GRCh38/GCF_000001405.26_GRCh38_genomic.fna.gz -P ref_data\n",
    "# !gunzip ref_data/GCF_000001405.26_GRCh38_genomic.fna.gz"
   ]
  },
  {
   "cell_type": "code",
   "execution_count": 8,
   "metadata": {},
   "outputs": [],
   "source": [
    "# swarm command to run in parallel\n",
    "with open('shulman_gtc_to_vcf.swarm','w') as f:\n",
    "    \n",
    "    for filename in shulman.filename:\n",
    "        \n",
    "        shulman_gtc_to_vcf_cmd = f'\\\n",
    "python3 {GTCtoVCF} \\\n",
    "--gtc-paths {shulman_gtc_path}/{filename}.gtc \\\n",
    "--manifest-file {bpm} \\\n",
    "--genome-fasta-file {ref_fasta} \\\n",
    "--output-vcf-path {shulman_out}/vcfs/{filename}.vcf \\\n",
    "--skip-indels'\n",
    "        \n",
    "        f.write(f'{shulman_gtc_to_vcf_cmd}\\n')\n",
    "f.close()\n"
   ]
  },
  {
   "cell_type": "code",
   "execution_count": 9,
   "metadata": {},
   "outputs": [],
   "source": [
    "# !swarm -f shulman_gtc_to_vcf.swarm -g 16 -t 16 --time=10:00:00 --logdir swarm --gres=lscratch:20 --partition=norm"
   ]
  },
  {
   "cell_type": "code",
   "execution_count": 10,
   "metadata": {},
   "outputs": [],
   "source": [
    "# swarm command to run in parallel\n",
    "with open('ny_gtc_to_vcf.swarm','w') as f:\n",
    "    \n",
    "    for filename in ny.filename:\n",
    "        \n",
    "        ny_gtc_to_vcf_cmd = f'\\\n",
    "python3 {GTCtoVCF} \\\n",
    "--gtc-paths {ny_gtc_path}/{filename}.gtc \\\n",
    "--manifest-file {bpm} \\\n",
    "--genome-fasta-file {ref_fasta} \\\n",
    "--output-vcf-path {ny_out}/vcfs/{filename}.vcf \\\n",
    "--skip-indels'\n",
    "        \n",
    "        f.write(f'{ny_gtc_to_vcf_cmd}\\n')\n",
    "f.close()\n"
   ]
  },
  {
   "cell_type": "code",
   "execution_count": 24,
   "metadata": {},
   "outputs": [
    {
     "name": "stdout",
     "output_type": "stream",
     "text": [
      "6960101\n"
     ]
    }
   ],
   "source": [
    "# !swarm -f ny_gtc_to_vcf.swarm -g 16 -t 16 --time=10:00:00 --logdir swarm --gres=lscratch:20 --partition=norm"
   ]
  },
  {
   "cell_type": "code",
   "execution_count": 43,
   "metadata": {},
   "outputs": [
    {
     "data": {
      "text/plain": [
       "0"
      ]
     },
     "execution_count": 43,
     "metadata": {},
     "output_type": "execute_result"
    }
   ],
   "source": [
    "# call genotypes from idats so we can compare gtc to idats at the end\n",
    "# create directory for each sentrix barcode A if they don't already exist\n",
    "for code in shulman.SentrixBarcode_A.unique():\n",
    "    if os.path.exists(f'{basedir}/SHULMAN/idats/{code}'):\n",
    "        print(f'{basedir}/SHULMAN/idats/{code} already exists')\n",
    "    else:\n",
    "        os.mkdir(f'{basedir}/SHULMAN/idats/{code}')\n",
    "\n",
    "missing_idats = []\n",
    "\n",
    "# split idats into respective cohorts and populated each sentrix barcode A directory\n",
    "for i, filename in enumerate(shulman.filename):\n",
    "    \n",
    "    grn = f'{idat_file_path}/{shulman.SentrixBarcode_A.iloc[i]}/{filename}_Grn.idat'\n",
    "    red = f'{idat_file_path}/{shulman.SentrixBarcode_A.iloc[i]}/{filename}_Red.idat'\n",
    "\n",
    "    if os.path.isfile(grn):\n",
    "        shutil.copyfile(src=grn, dst=f'{basedir}/SHULMAN/idats/{shulman.SentrixBarcode_A.iloc[i]}/{filename}_Grn.idat')\n",
    "    else:\n",
    "        missing_idats.append(grn)\n",
    "        \n",
    "    if os.path.isfile(red):\n",
    "        shutil.copyfile(src=red, dst=f'{basedir}/SHULMAN/idats/{shulman.SentrixBarcode_A.iloc[i]}/{filename}_Red.idat')\n",
    "    else:\n",
    "        missing_idats.append(red)\n",
    "    \n",
    "\n",
    "len(missing_idats)"
   ]
  },
  {
   "cell_type": "code",
   "execution_count": 45,
   "metadata": {},
   "outputs": [
    {
     "data": {
      "text/plain": [
       "0"
      ]
     },
     "execution_count": 45,
     "metadata": {},
     "output_type": "execute_result"
    }
   ],
   "source": [
    "# create directory for each sentrix barcode A if they don't already exist\n",
    "for code in ny.SentrixBarcode_A.unique():\n",
    "    if os.path.exists(f'{basedir}/NY/idats/{code}'):\n",
    "        print(f'{basedir}/NY/idats/{code} already exists')\n",
    "    else:\n",
    "        os.mkdir(f'{basedir}/NY/idats/{code}')\n",
    "        \n",
    "missing_idats = []\n",
    "# spit idats into respective cohorts\n",
    "for i, filename in enumerate(ny.filename):\n",
    "    grn = f'{idat_file_path}/{ny.SentrixBarcode_A.iloc[i]}/{filename}_Grn.idat'\n",
    "    red = f'{idat_file_path}/{ny.SentrixBarcode_A.iloc[i]}/{filename}_Red.idat'\n",
    "#     print(f'{idat_file_path}/{shulman.SentrixBarcode_A.iloc[i]}/{filename}_Grn.idat')\n",
    "#     print(f'{idat_file_path}/{shulman.SentrixBarcode_A.iloc[i]}/{filename}_Red.idat')\n",
    "    if os.path.isfile(grn):\n",
    "        shutil.copyfile(src=grn, dst=f'{basedir}/NY/idats/{ny.SentrixBarcode_A.iloc[i]}/{filename}_Grn.idat')\n",
    "    else:\n",
    "        missing_idats.append(grn)\n",
    "        \n",
    "    if os.path.isfile(red):\n",
    "        shutil.copyfile(src=red, dst=f'{basedir}/NY/idats/{ny.SentrixBarcode_A.iloc[i]}/{filename}_Red.idat')\n",
    "    else:\n",
    "        missing_idats.append(red)\n",
    "    \n",
    "\n",
    "len(missing_idats)"
   ]
  },
  {
   "cell_type": "code",
   "execution_count": 60,
   "metadata": {},
   "outputs": [],
   "source": [
    "# # swarm command to run in parallel\n",
    "with open('shulman_idat_to_ped.swarm','w') as f:\n",
    "    \n",
    "    for code in shulman.SentrixBarcode_A.unique():\n",
    "        \n",
    "        shulman_idat_to_ped_cmd = f'\\\n",
    "{iaap} gencall \\\n",
    "{bpm} \\\n",
    "{cluster_file} \\\n",
    "{shulman_out}/peds/ \\\n",
    "-f {shulman_idat_path}/{code} \\\n",
    "-p \\\n",
    "-t 16'\n",
    "        \n",
    "        f.write(f'{shulman_gtc_to_vcf_cmd}\\n')\n",
    "f.close()\n"
   ]
  },
  {
   "cell_type": "code",
   "execution_count": 11,
   "metadata": {},
   "outputs": [
    {
     "output_type": "stream",
     "name": "stdout",
     "text": [
      "7424698\n"
     ]
    }
   ],
   "source": [
    "# !swarm -f shulman_idat_to_ped.swarm -g 32 -t 16 --time=10:00:00 --logdir swarm --gres=lscratch:20 --partition=norm"
   ]
  },
  {
   "cell_type": "code",
   "execution_count": null,
   "metadata": {},
   "outputs": [],
   "source": [
    "# convert vcfs to plink bed and merge into single genotype\n",
    "\n"
   ]
  },
  {
   "cell_type": "code",
   "execution_count": null,
   "metadata": {},
   "outputs": [],
   "source": []
  }
 ],
 "metadata": {
  "kernelspec": {
   "display_name": "Python 3",
   "language": "python",
   "name": "python3"
  }
 },
 "nbformat": 4,
 "nbformat_minor": 4
}