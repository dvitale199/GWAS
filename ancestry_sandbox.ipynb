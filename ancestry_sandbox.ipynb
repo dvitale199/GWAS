{
 "cells": [
  {
   "cell_type": "code",
   "execution_count": 7,
   "metadata": {},
   "outputs": [],
   "source": [
    "import pandas as pd\n",
    "import subprocess\n",
    "import sys\n",
    "import matplotlib.pyplot as plt\n",
    "from matplotlib import cm \n",
    "import numpy as np\n",
    "import os\n",
    "import shutil\n",
    "\n",
    "#local imports\n",
    "from gwas.qc import QC\n"
   ]
  },
  {
   "cell_type": "code",
   "execution_count": 8,
   "metadata": {},
   "outputs": [],
   "source": [
    "def shell_do(command, log=False, return_log=False):\n",
    "    print(f'Executing: {(\" \").join(command.split())}', file=sys.stderr)\n",
    "\n",
    "    res=subprocess.run(command.split(), stdout=subprocess.PIPE)\n",
    "\n",
    "    if log:\n",
    "        print(res.stdout.decode('utf-8'))\n",
    "    if return_log:\n",
    "        return(res.stdout.decode('utf-8'))"
   ]
  },
  {
   "cell_type": "code",
   "execution_count": null,
   "metadata": {},
   "outputs": [],
   "source": []
  },
  {
   "cell_type": "code",
   "execution_count": 9,
   "metadata": {},
   "outputs": [],
   "source": [
    "structure = 'fastStructure/structure.py'\n",
    "# geno_name = '/data/vitaled2/test_data/spanish_gwas2/SPAIN2ndpart_pheno'\n",
    "# out_path = '/data/vitaled2/test_data/spanish_gwas2/'\n",
    "# geno_name = '/data/vitaled2/test_data/FIN/PD.FIN'\n",
    "# out_path = '/data/vitaled2/test_data/FIN/'\n",
    "geno_name = '/data/vitaled2/test_data/mcgill/MCGILL_all'\n",
    "out_path = '/data/vitaled2/test_data/mcgill/'\n",
    "\n",
    "ref_dir_path = f'/data/LNG/vitaled2/1kgenomes'\n",
    "ref_panel = f'{ref_dir_path}/1kg_ashkj_ref_panel_gp2_pruned'\n",
    "\n",
    "\n",
    "# demographic info\n",
    "ref_dir_path = f'/data/LNG/vitaled2/1kgenomes'\n",
    "ashk_data = f'/data/LNG/iwakih2/dataset/Jew/GSE23636'\n",
    "onekg_demog_path = f'{ref_dir_path}/igsr_samples.tsv'\n",
    "ancestry_file = f'{ref_dir_path}/ref_panel_ancestry.txt'"
   ]
  },
  {
   "cell_type": "code",
   "execution_count": 10,
   "metadata": {},
   "outputs": [
    {
     "data": {
      "text/plain": [
       "'/data/vitaled2/test_data/mcgill/MCGILL_all'"
      ]
     },
     "execution_count": 10,
     "metadata": {},
     "output_type": "execute_result"
    }
   ],
   "source": [
    "geno_name"
   ]
  },
  {
   "cell_type": "code",
   "execution_count": 11,
   "metadata": {},
   "outputs": [],
   "source": [
    "# now make filenames:\n",
    "geno_call_rate = geno_name + \"_call_rate\"\n",
    "geno_sex = geno_call_rate + \"_sex\"\n",
    "geno_het =  geno_sex + \"_het\"\n",
    "\n"
   ]
  },
  {
   "cell_type": "code",
   "execution_count": 6,
   "metadata": {},
   "outputs": [
    {
     "name": "stdout",
     "output_type": "stream",
     "text": [
      "PROCESSING THE FOLLOWING GENOTYPES: /data/vitaled2/test_data/mcgill/MCGILL_all\n",
      "\n",
      "PRUNING FOR CALL RATE\n",
      "logging to /data/vitaled2/test_data/mcgill/MCGILL_all.PLINK_STEPS.log\n",
      "***********************************************\n",
      "\n",
      "CHECKING SEXES\n",
      "logging to /data/vitaled2/test_data/mcgill/MCGILL_all.PLINK_STEPS.log\n",
      "***********************************************\n",
      "\n",
      "PRUNING FOR HETEROZYGOSITY\n",
      "logging to /data/vitaled2/test_data/mcgill/MCGILL_all.PLINK_STEPS.log\n",
      "***********************************************\n",
      "\n"
     ]
    }
   ],
   "source": [
    "# # INSTANTIATE QC WITH INPUT NAME AND OUTPUT NAME     \n",
    "qc = QC(geno_name, rare=False)\n",
    "\n",
    "# NOW RUN COMMANDS\n",
    "# FIRST, CLEAR EXISTING LOGFILE\n",
    "qc.rm_log()\n",
    "\n",
    "# run het pruning\n",
    "qc.call_rate_pruning(geno_name)\n",
    "qc.sex_check(geno_call_rate)\n",
    "qc.het_pruning(geno_sex)"
   ]
  },
  {
   "cell_type": "code",
   "execution_count": 12,
   "metadata": {},
   "outputs": [],
   "source": [
    "geno_ancestry_prune1 = f'{geno_het}_ancestry_maf_geno_hwe'\n",
    "geno_ancestry_prune = f'{geno_het}_ancestry_prune'\n",
    "\n",
    "# prune geno_het for geno, maf, hwe, and palindromes\n",
    "geno_het_bim = pd.read_csv(f'{geno_het}.bim', sep='\\t', header=None)\n",
    "\n",
    "# find and drop palindromes in geno_het bim file\n",
    "geno_het_bim.columns = ['chr', 'rsid', 'kb', 'pos', 'a1', 'a2']\n",
    "palindromes = geno_het_bim.loc[((geno_het_bim.a1 == 'A') & (geno_het_bim.a2 == 'T')) | ((geno_het_bim.a1 == 'T') & (geno_het_bim.a2 == 'A')) | ((geno_het_bim.a1 == 'C') & (geno_het_bim.a2 == 'G')) | ((geno_het_bim.a1 == 'G') & (geno_het_bim.a2 == 'C'))]\n",
    "palindromes['rsid'].to_csv(f'{geno_het}_palindromes.snplist', header=False, index=False, sep='\\t')\n",
    "\n",
    "plink_cmd1 = f'plink --bfile {geno_het}\\\n",
    " --maf 0.05\\\n",
    " --geno 0.01\\\n",
    " --hwe 0.0001\\\n",
    " --autosome\\\n",
    " --allow-no-sex\\\n",
    " --exclude {geno_het}_palindromes.snplist\\\n",
    " --make-bed\\\n",
    " --out {geno_ancestry_prune1}' \n",
    "\n",
    "#remove high-LD regions\n",
    "plink_cmd2 = f'plink --bfile {geno_ancestry_prune1}\\\n",
    " --exclude range {ref_dir_path}/hg19_exclusion_regions.txt\\\n",
    " --autosome\\\n",
    " --allow-no-sex\\\n",
    " --make-bed\\\n",
    " --out {geno_ancestry_prune}'\n",
    "\n",
    "cmds = [plink_cmd1, plink_cmd2]\n",
    "\n",
    "# for cmd in cmds:\n",
    "#     shell_do(cmd)\n",
    "\n",
    "\n",
    "\n"
   ]
  },
  {
   "cell_type": "code",
   "execution_count": null,
   "metadata": {},
   "outputs": [],
   "source": []
  },
  {
   "cell_type": "code",
   "execution_count": 86,
   "metadata": {},
   "outputs": [
    {
     "name": "stderr",
     "output_type": "stream",
     "text": [
      "Executing: plink --bfile /data/vitaled2/test_data/mcgill/MCGILL_all_call_rate_sex_het_ancestry_prune --allow-no-sex --bmerge /data/LNG/vitaled2/1kgenomes/1kg_ashkj_ref_panel_gp2_pruned --out /data/vitaled2/test_data/mcgill/MCGILL_all_call_rate_sex_het_ancestry_prune_merged_ref_panel --make-bed\n",
      "Executing: plink --bfile /data/vitaled2/test_data/mcgill/MCGILL_all_call_rate_sex_het_ancestry_prune --allow-no-sex --flip /data/vitaled2/test_data/mcgill/MCGILL_all_call_rate_sex_het_ancestry_prune_merged_ref_panel-merge.missnp --make-bed --out /data/vitaled2/test_data/mcgill/MCGILL_all_call_rate_sex_het_ancestry_prune_flip\n",
      "Executing: plink --bfile /data/vitaled2/test_data/mcgill/MCGILL_all_call_rate_sex_het_ancestry_prune_flip --allow-no-sex --bmerge /data/LNG/vitaled2/1kgenomes/1kg_ashkj_ref_panel_gp2_pruned --out /data/vitaled2/test_data/mcgill/MCGILL_all_call_rate_sex_het_ancestry_prune_merged_ref_panel_flip --make-bed\n",
      "Executing: plink --bfile /data/vitaled2/test_data/mcgill/MCGILL_all_call_rate_sex_het_ancestry_prune_merged_ref_panel --indep-pairwise 50 10 0.1 --allow-no-sex --autosome --out /data/vitaled2/test_data/mcgill/pruned_data\n",
      "Executing: plink --bfile /data/vitaled2/test_data/mcgill/MCGILL_all_call_rate_sex_het_ancestry_prune_merged_ref_panel --extract /data/vitaled2/test_data/mcgill/pruned_data.prune.in --allow-no-sex --make-bed --out /data/vitaled2/test_data/mcgill/MCGILL_all_call_rate_sex_het_ancestry_prune_merged_ref_panel_prune\n",
      "Executing: plink --bfile /data/vitaled2/test_data/mcgill/MCGILL_all_call_rate_sex_het_ancestry_prune_merged_ref_panel_prune --extract /data/vitaled2/test_data/mcgill/MCGILL_all_call_rate_sex_het_ancestry_prune_merged_ref_panel_random_sample.snplist --allow-no-sex --autosome --make-bed --out /data/vitaled2/test_data/mcgill/MCGILL_all_call_rate_sex_het_ancestry_prune_merged_ref_panel_random_sample\n",
      "Executing: plink --bfile /data/vitaled2/test_data/mcgill/MCGILL_all_call_rate_sex_het_ancestry_prune_merged_ref_panel_random_sample --allow-no-sex --out /data/vitaled2/test_data/mcgill/MCGILL_all_call_rate_sex_het_ancestry_prune_merged_ref_panel_random_sample_pca --make-bed --pca 8\n"
     ]
    }
   ],
   "source": [
    "#merge ref panel with geno and run \n",
    "# geno_het_ref_panel = f'{geno_ancestry_prune}_merged_ref_panel'\n",
    "# geno_het_ref_panel_rand_samp = f'{geno_het_ref_panel}_random_sample'\n",
    "# rand_samp_snplist = f'{geno_het_ref_panel}_random_sample.snplist'\n",
    "# geno_het_ref_panel_prune = f'{geno_het_ref_panel}_prune'\n",
    "\n",
    "\n",
    "# bash1 = f\"plink --bfile {geno_ancestry_prune} --allow-no-sex --bmerge {ref_panel} --out {out_path}bin_snplis --make-bed\"\n",
    "# bash2 = f\"plink --bfile {geno_ancestry_prune} --allow-no-sex --flip {out_path}bin_snplis-merge.missnp --make-bed --out {geno_ancestry_prune}_flip\"\n",
    "# bash3 = f\"plink --bfile {geno_ancestry_prune}_flip --allow-no-sex --bmerge {ref_panel} --out {out_path}bin_snplis --make-bed\"\n",
    "# bash4 = f\"plink --bfile {geno_ancestry_prune}_flip --allow-no-sex --exclude {out_path}bin_snplis-merge.missnp --out {geno_ancestry_prune}_flip_pruned --make-bed\"\n",
    "# bash5 = f\"plink --bfile {geno_ancestry_prune}_flip_pruned --allow-no-sex --bmerge {ref_panel} --out  {geno_het_ref_panel} --make-bed\"\n",
    "\n",
    "# cmds1 = [bash1, bash2, bash3, bash4, bash5]\n",
    "\n",
    "# for cmd in cmds1:\n",
    "#     shell_do(cmd)\n",
    "\n",
    "geno_het_ref_panel = f'{geno_ancestry_prune}_merged_ref_panel'\n",
    "geno_het_ref_panel_rand_samp = f'{geno_het_ref_panel}_random_sample'\n",
    "rand_samp_snplist = f'{geno_het_ref_panel}_random_sample.snplist'\n",
    "geno_het_ref_panel_prune = f'{geno_het_ref_panel}_prune'\n",
    "\n",
    "# attempt 1 at merging geno to ref panel\n",
    "bash1 = f\"plink --bfile {geno_ancestry_prune} --allow-no-sex --bmerge {ref_panel} --out {geno_het_ref_panel} --make-bed\"\n",
    "shell_do(bash1)\n",
    "\n",
    "# if {geno_het_ref_panel}-merge.missnp file created, snps need to be flipped and merge tried again\n",
    "if os.path.isfile(f'{geno_het_ref_panel}-merge.missnp'):\n",
    "    bash2 = f\"plink --bfile {geno_ancestry_prune} --allow-no-sex --flip {geno_het_ref_panel}-merge.missnp --make-bed --out {geno_ancestry_prune}_flip\"\n",
    "    bash3 = f\"plink --bfile {geno_ancestry_prune}_flip --allow-no-sex --bmerge {ref_panel} --out {geno_het_ref_panel}_flip --make-bed\"\n",
    "    \n",
    "    cmds1 = [bash2, bash3]\n",
    "    \n",
    "    for cmd in cmds1:\n",
    "#         shell_do(cmd)\n",
    "    \n",
    "    #if another -merge.missnp file is created, these are likely triallelic positions and must be excluded and then try merge again\n",
    "    if os.path.isfile(f'{geno_het_ref_panel}_flip-merge.missnp'):\n",
    "        bash4 = f\"plink --bfile {geno_ancestry_prune}_flip --allow-no-sex --exclude {geno_het_ref_panel}_flip-merge.missnp --out {geno_ancestry_prune}_flip_pruned --make-bed\"\n",
    "        bash5 = f\"plink --bfile {geno_ancestry_prune}_flip_pruned --allow-no-sex --bmerge {ref_panel} --out  {geno_het_ref_panel} --make-bed\"\n",
    "        \n",
    "        cmds2 = [bash4, bash5]\n",
    "        \n",
    "        for cmd in cmds2:\n",
    "#             shell_do(cmd)\n",
    "\n",
    "    # if second attempt at merge is successful, there are no triallelic snps and we can go ahead and move the _flip files to our _merged_ref_panel filenames \n",
    "    # for further processing\n",
    "    else:\n",
    "        suffix_list = ['bed','bim','fam']\n",
    "        for suffix in suffix_list:\n",
    "            shutil.copy(f'{geno_het_ref_panel}_flip.{suffix}',f'{geno_het_ref_panel}.{suffix}')\n",
    "\n",
    "# if first merge works, there are no alleles in need of flipping and no triallelic positions and we can proceed!\n",
    "else:\n",
    "    pass\n",
    "\n",
    "\n",
    "# now prune for LD\n",
    "ld_prune1 = f'plink --bfile {geno_het_ref_panel}\\\n",
    " --indep-pairwise 50 10 0.1\\\n",
    " --allow-no-sex\\\n",
    " --autosome\\\n",
    " --out {out_path}pruned_data'\n",
    "\n",
    "ld_prune2 = f'plink --bfile {geno_het_ref_panel}\\\n",
    " --extract {out_path}pruned_data.prune.in\\\n",
    " --allow-no-sex\\\n",
    " --make-bed\\\n",
    " --out {geno_het_ref_panel_prune}'\n",
    "\n",
    "ld_prune_cmds = [ld_prune1, ld_prune2]\n",
    "\n",
    "# for cmd in ld_prune_cmds:\n",
    "#     shell_do(cmd)\n",
    "\n",
    "\n",
    "bim = pd.read_csv(f'{geno_het_ref_panel_prune}.bim', sep='\\t', header=None)\n",
    "ref_panel_random_sample = bim.sample(10000, random_state=123)\n",
    "ref_panel_random_sample.to_csv(rand_samp_snplist, header=False, index=False, sep='\\t')\n",
    "\n",
    "rand_sample_cmd = f'plink --bfile {geno_het_ref_panel_prune}\\\n",
    " --extract {rand_samp_snplist}\\\n",
    " --allow-no-sex\\\n",
    " --autosome\\\n",
    " --make-bed\\\n",
    " --out {geno_het_ref_panel_rand_samp}'\n",
    "\n",
    "pca_cmd = f\"plink --bfile {geno_het_ref_panel_rand_samp} --allow-no-sex --out {geno_het_ref_panel_rand_samp}_pca --make-bed --pca 8\"\n",
    "\n",
    "cmds2 = [rand_sample_cmd, pca_cmd]\n",
    "\n",
    "for cmd in cmds2:\n",
    "    shell_do(cmd)"
   ]
  },
  {
   "cell_type": "code",
   "execution_count": 87,
   "metadata": {},
   "outputs": [],
   "source": [
    "# labeled_samples\n",
    "# ref_ancestry\n",
    "# labeled_pca\n",
    "# combined_labels.label.unique()\n",
    "# combined_labels['FID'] = combined_labels.loc[:,'FID'].str.lower()\n",
    "# combined_labels[combined_labels.IID.isna()]\n",
    "# # test = pca.merge(combined_labels, how='left', on=['FID','IID'])\n",
    "# # test[test.label.isna()]\n",
    "# type(combined_labels[combined_labels.label=='new'].IID.iloc[0])"
   ]
  },
  {
   "cell_type": "code",
   "execution_count": 88,
   "metadata": {},
   "outputs": [],
   "source": [
    "pca_path = f'{geno_het_ref_panel_rand_samp}_pca.eigenvec'\n",
    "\n",
    "pca = pd.read_csv(pca_path, sep=' ', header=None)\n",
    "pca_columns = ['FID','IID'] + [f\"pc{i-1}\" for i in range(2,len(pca.columns))]\n",
    "pca.columns = pca_columns"
   ]
  },
  {
   "cell_type": "code",
   "execution_count": 89,
   "metadata": {},
   "outputs": [],
   "source": [
    "new_samples_path = f'{geno_het}.fam'\n",
    "new_samples_fam = pd.read_csv(new_samples_path, sep=' ', header=None)\n",
    "labeled_samples = new_samples_fam.loc[:,[0,1]]\n",
    "labeled_samples.loc[:,'label'] = 'new'\n",
    "labeled_samples.rename(columns={0:'FID',1:'IID'}, inplace=True)"
   ]
  },
  {
   "cell_type": "code",
   "execution_count": 90,
   "metadata": {},
   "outputs": [
    {
     "data": {
      "text/plain": [
       "AFR    504\n",
       "EAS    504\n",
       "SAS    489\n",
       "AJ     471\n",
       "EUR    404\n",
       "AMR    347\n",
       "AAC    157\n",
       "FIN     99\n",
       "Name: label, dtype: int64"
      ]
     },
     "execution_count": 90,
     "metadata": {},
     "output_type": "execute_result"
    }
   ],
   "source": [
    "ref_ancestry = pd.read_csv(ancestry_file, sep='\\t')\n",
    "ref_ancestry.label.value_counts()"
   ]
  },
  {
   "cell_type": "code",
   "execution_count": 91,
   "metadata": {},
   "outputs": [
    {
     "name": "stdout",
     "output_type": "stream",
     "text": [
      "new    2366\n",
      "AFR     504\n",
      "EAS     504\n",
      "SAS     489\n",
      "AJ      471\n",
      "EUR     404\n",
      "AMR     347\n",
      "AAC     157\n",
      "FIN      99\n",
      "Name: label, dtype: int64\n"
     ]
    },
    {
     "data": {
      "text/plain": [
       "array(['new', 'AJ', 'EUR', 'FIN', 'EAS', 'AMR', 'SAS', 'AAC', 'AFR'],\n",
       "      dtype=object)"
      ]
     },
     "execution_count": 91,
     "metadata": {},
     "output_type": "execute_result"
    }
   ],
   "source": [
    "# combine labeled samples with labeled ref panel ids and merge with pca\n",
    "combined_labels = labeled_samples.append(ref_ancestry)\n",
    "\n",
    "combined_labels['FID'], combined_labels['IID'] = combined_labels['FID'].astype('str').str.lower(), combined_labels['IID'].astype('str').str.lower()\n",
    "pca['FID'], pca['IID'] = pca['FID'].astype('str').str.lower(), pca['IID'].astype('str').str.lower()\n",
    "\n",
    "# combined_labels\n",
    "labeled_pca = pca.merge(combined_labels, how='left', on=['FID','IID'])\n",
    "\n",
    "print(labeled_pca.label.value_counts())\n",
    "labeled_pca.label.unique()"
   ]
  },
  {
   "cell_type": "code",
   "execution_count": 102,
   "metadata": {},
   "outputs": [
    {
     "name": "stderr",
     "output_type": "stream",
     "text": [
      "*c* argument looks like a single numeric RGB or RGBA sequence, which should be avoided as value-mapping will have precedence in case its length matches with *x* & *y*.  Please use the *color* keyword-argument or provide a 2-D array with a single row if you intend to specify the same RGB or RGBA value for all points.\n",
      "*c* argument looks like a single numeric RGB or RGBA sequence, which should be avoided as value-mapping will have precedence in case its length matches with *x* & *y*.  Please use the *color* keyword-argument or provide a 2-D array with a single row if you intend to specify the same RGB or RGBA value for all points.\n",
      "*c* argument looks like a single numeric RGB or RGBA sequence, which should be avoided as value-mapping will have precedence in case its length matches with *x* & *y*.  Please use the *color* keyword-argument or provide a 2-D array with a single row if you intend to specify the same RGB or RGBA value for all points.\n",
      "*c* argument looks like a single numeric RGB or RGBA sequence, which should be avoided as value-mapping will have precedence in case its length matches with *x* & *y*.  Please use the *color* keyword-argument or provide a 2-D array with a single row if you intend to specify the same RGB or RGBA value for all points.\n",
      "*c* argument looks like a single numeric RGB or RGBA sequence, which should be avoided as value-mapping will have precedence in case its length matches with *x* & *y*.  Please use the *color* keyword-argument or provide a 2-D array with a single row if you intend to specify the same RGB or RGBA value for all points.\n",
      "*c* argument looks like a single numeric RGB or RGBA sequence, which should be avoided as value-mapping will have precedence in case its length matches with *x* & *y*.  Please use the *color* keyword-argument or provide a 2-D array with a single row if you intend to specify the same RGB or RGBA value for all points.\n",
      "*c* argument looks like a single numeric RGB or RGBA sequence, which should be avoided as value-mapping will have precedence in case its length matches with *x* & *y*.  Please use the *color* keyword-argument or provide a 2-D array with a single row if you intend to specify the same RGB or RGBA value for all points.\n",
      "*c* argument looks like a single numeric RGB or RGBA sequence, which should be avoided as value-mapping will have precedence in case its length matches with *x* & *y*.  Please use the *color* keyword-argument or provide a 2-D array with a single row if you intend to specify the same RGB or RGBA value for all points.\n",
      "*c* argument looks like a single numeric RGB or RGBA sequence, which should be avoided as value-mapping will have precedence in case its length matches with *x* & *y*.  Please use the *color* keyword-argument or provide a 2-D array with a single row if you intend to specify the same RGB or RGBA value for all points.\n"
     ]
    },
    {
     "data": {
      "image/png": "[encoded data removed]",
      "text/plain": [
       "<Figure size 576x576 with 1 Axes>"
      ]
     },
     "metadata": {
      "needs_background": "light"
     },
     "output_type": "display_data"
    }
   ],
   "source": [
    "# now plot PCs\n",
    "fig = plt.figure(figsize = (8,8))\n",
    "ax = fig.add_subplot(1,1,1) \n",
    "ax.set_xlabel('Principal Component 1', fontsize = 15)\n",
    "ax.set_ylabel('Principal Component 2', fontsize = 15)\n",
    "ax.set_title('2 component PCA', fontsize = 20)\n",
    "cmap = cm.get_cmap('tab10')\n",
    "targets = list(labeled_pca.label.unique())\n",
    "\n",
    "colors = cmap(np.linspace(0, 1, len(targets)))\n",
    "for target, color in zip(targets,colors):\n",
    "    indicesToKeep = labeled_pca['label'] == target\n",
    "    ax.scatter(labeled_pca.loc[indicesToKeep, 'pc1']\n",
    "               , labeled_pca.loc[indicesToKeep, 'pc2']\n",
    "               , c = color\n",
    "               , s = 50)\n",
    "ax.legend(targets)\n",
    "ax.grid()"
   ]
  },
  {
   "cell_type": "code",
   "execution_count": 93,
   "metadata": {},
   "outputs": [],
   "source": [
    "structure = f'/data/vitaled2/ref_panel/fastStructure/structure.py'\n",
    "fam = pd.read_csv(f'{geno_het_ref_panel}.fam', sep=' ', header=None)\n",
    "ancestry_labels = f'{ref_dir_path}/ref_panel_ancestry.txt'\n",
    "faststructure_cmd = f'bash /data/vitaled2/GWAS/gwas/faststructure_setup_and_run.sh -i {geno_het_ref_panel_rand_samp} -o {geno_het_ref_panel_rand_samp}_structure -f {structure}'\n",
    "\n"
   ]
  },
  {
   "cell_type": "code",
   "execution_count": 94,
   "metadata": {},
   "outputs": [
    {
     "name": "stderr",
     "output_type": "stream",
     "text": [
      "Executing: swarm -f /data/vitaled2/test_data/mcgill/_fs_complete.swarm -g 16 --time=10:00:00 -t 20 --logdir /data/vitaled2/test_data/mcgill/swarm --partition=norm\n"
     ]
    }
   ],
   "source": [
    "fs_complete_swarm = f'{out_path}_fs_complete.swarm'\n",
    "with open(fs_complete_swarm, 'w') as f:\n",
    "    f.write(faststructure_cmd)\n",
    "f.close()\n",
    "\n",
    "shell_do(f'swarm -f {fs_complete_swarm} -g 16 --time=10:00:00 -t 20 --logdir {out_path}swarm --partition=norm')"
   ]
  },
  {
   "cell_type": "code",
   "execution_count": 95,
   "metadata": {},
   "outputs": [],
   "source": [
    "# shell_do(f'bash /data/vitaled2/GWAS/gwas/faststructure_setup_and_run.sh -i {geno_het_ref_panel_rand_samp} -o {geno_het_ref_panel_rand_samp}_structure -f {structure}')\n",
    "# shell_do(f'bash /data/vitaled2/GWAS/gwas/faststructure_setup_and_run.sh -i {geno_het_ref_panel} -o {geno_het_ref_panel}_structure -f {structure}')\n",
    "# shell_do(f'bash /data/vitaled2/GWAS/gwas/faststructure_setup_and_run.sh -i {geno_het_ref_panel_final_prune} -o {geno_het_ref_panel_final_prune}_structure -f {structure}')"
   ]
  },
  {
   "cell_type": "code",
   "execution_count": null,
   "metadata": {},
   "outputs": [],
   "source": []
  },
  {
   "cell_type": "code",
   "execution_count": 82,
   "metadata": {},
   "outputs": [],
   "source": [
    "# after fastStructure finishes running:\n",
    "# read Q file and create labels\n",
    "q_df = pd.read_csv(f'{geno_het_ref_panel_rand_samp}_structure.8.meanQ', header=None, sep='\\s+')\n",
    "q_df.columns = [f'pop{i}' for i in range(1,9)]\n",
    "fam['highest_2_pops'] = q_df.apply(lambda s: s.abs().nlargest(2).index.tolist(), axis=1)\n",
    "fam['highest_pop'] = q_df.idxmax(axis=1)\n",
    "\n",
    "q_df['FID'], q_df['IID'], q_df['highest_pop'], q_df['highest_2_pops'] = fam[0], fam[1], fam['highest_pop'], fam['highest_2_pops']\n"
   ]
  },
  {
   "cell_type": "code",
   "execution_count": 83,
   "metadata": {},
   "outputs": [
    {
     "name": "stdout",
     "output_type": "stream",
     "text": [
      "pop8    1475\n",
      "pop2    1124\n",
      "pop5     315\n",
      "pop1      51\n",
      "pop7      27\n",
      "pop6      18\n",
      "pop3      18\n",
      "pop4       9\n",
      "Name: highest_pop, dtype: int64\n"
     ]
    }
   ],
   "source": [
    "pop = pd.read_csv(ancestry_labels, sep='\\t')\n",
    "q_pop_merged = q_df.merge(pop, left_on=['FID','IID'], right_on=['FID','IID'], how='left')\n",
    "q_pop_merged.label.fillna('new', inplace=True)\n",
    "print(q_pop_merged['highest_pop'].value_counts())"
   ]
  },
  {
   "cell_type": "code",
   "execution_count": 85,
   "metadata": {},
   "outputs": [
    {
     "data": {
      "text/html": [
       "<div>\n",
       "<style scoped>\n",
       "    .dataframe tbody tr th:only-of-type {\n",
       "        vertical-align: middle;\n",
       "    }\n",
       "\n",
       "    .dataframe tbody tr th {\n",
       "        vertical-align: top;\n",
       "    }\n",
       "\n",
       "    .dataframe thead th {\n",
       "        text-align: right;\n",
       "    }\n",
       "</style>\n",
       "<table border=\"1\" class=\"dataframe\">\n",
       "  <thead>\n",
       "    <tr style=\"text-align: right;\">\n",
       "      <th></th>\n",
       "      <th>pop1</th>\n",
       "      <th>pop2</th>\n",
       "      <th>pop3</th>\n",
       "      <th>pop4</th>\n",
       "      <th>pop5</th>\n",
       "      <th>pop6</th>\n",
       "      <th>pop7</th>\n",
       "      <th>pop8</th>\n",
       "    </tr>\n",
       "  </thead>\n",
       "  <tbody>\n",
       "    <tr>\n",
       "      <th>count</th>\n",
       "      <td>471.000000</td>\n",
       "      <td>471.000000</td>\n",
       "      <td>471.000000</td>\n",
       "      <td>471.000000</td>\n",
       "      <td>471.000000</td>\n",
       "      <td>471.000000</td>\n",
       "      <td>471.000000</td>\n",
       "      <td>471.000000</td>\n",
       "    </tr>\n",
       "    <tr>\n",
       "      <th>mean</th>\n",
       "      <td>0.021251</td>\n",
       "      <td>0.421337</td>\n",
       "      <td>0.007112</td>\n",
       "      <td>0.008123</td>\n",
       "      <td>0.079887</td>\n",
       "      <td>0.004256</td>\n",
       "      <td>0.008692</td>\n",
       "      <td>0.449345</td>\n",
       "    </tr>\n",
       "    <tr>\n",
       "      <th>std</th>\n",
       "      <td>0.144296</td>\n",
       "      <td>0.472574</td>\n",
       "      <td>0.081148</td>\n",
       "      <td>0.080899</td>\n",
       "      <td>0.257550</td>\n",
       "      <td>0.065089</td>\n",
       "      <td>0.084556</td>\n",
       "      <td>0.480067</td>\n",
       "    </tr>\n",
       "    <tr>\n",
       "      <th>min</th>\n",
       "      <td>0.000010</td>\n",
       "      <td>0.000010</td>\n",
       "      <td>0.000010</td>\n",
       "      <td>0.000010</td>\n",
       "      <td>0.000010</td>\n",
       "      <td>0.000010</td>\n",
       "      <td>0.000010</td>\n",
       "      <td>0.000010</td>\n",
       "    </tr>\n",
       "    <tr>\n",
       "      <th>25%</th>\n",
       "      <td>0.000010</td>\n",
       "      <td>0.000010</td>\n",
       "      <td>0.000010</td>\n",
       "      <td>0.000010</td>\n",
       "      <td>0.000010</td>\n",
       "      <td>0.000010</td>\n",
       "      <td>0.000010</td>\n",
       "      <td>0.000010</td>\n",
       "    </tr>\n",
       "    <tr>\n",
       "      <th>50%</th>\n",
       "      <td>0.000010</td>\n",
       "      <td>0.000010</td>\n",
       "      <td>0.000010</td>\n",
       "      <td>0.000010</td>\n",
       "      <td>0.000010</td>\n",
       "      <td>0.000010</td>\n",
       "      <td>0.000010</td>\n",
       "      <td>0.000010</td>\n",
       "    </tr>\n",
       "    <tr>\n",
       "      <th>75%</th>\n",
       "      <td>0.000010</td>\n",
       "      <td>0.999933</td>\n",
       "      <td>0.000010</td>\n",
       "      <td>0.000010</td>\n",
       "      <td>0.000010</td>\n",
       "      <td>0.000010</td>\n",
       "      <td>0.000010</td>\n",
       "      <td>0.999933</td>\n",
       "    </tr>\n",
       "    <tr>\n",
       "      <th>max</th>\n",
       "      <td>0.999933</td>\n",
       "      <td>0.999933</td>\n",
       "      <td>0.999933</td>\n",
       "      <td>0.999933</td>\n",
       "      <td>0.999933</td>\n",
       "      <td>0.999933</td>\n",
       "      <td>0.999933</td>\n",
       "      <td>0.999933</td>\n",
       "    </tr>\n",
       "  </tbody>\n",
       "</table>\n",
       "</div>"
      ],
      "text/plain": [
       "             pop1        pop2        pop3        pop4        pop5        pop6  \\\n",
       "count  471.000000  471.000000  471.000000  471.000000  471.000000  471.000000   \n",
       "mean     0.021251    0.421337    0.007112    0.008123    0.079887    0.004256   \n",
       "std      0.144296    0.472574    0.081148    0.080899    0.257550    0.065089   \n",
       "min      0.000010    0.000010    0.000010    0.000010    0.000010    0.000010   \n",
       "25%      0.000010    0.000010    0.000010    0.000010    0.000010    0.000010   \n",
       "50%      0.000010    0.000010    0.000010    0.000010    0.000010    0.000010   \n",
       "75%      0.000010    0.999933    0.000010    0.000010    0.000010    0.000010   \n",
       "max      0.999933    0.999933    0.999933    0.999933    0.999933    0.999933   \n",
       "\n",
       "             pop7        pop8  \n",
       "count  471.000000  471.000000  \n",
       "mean     0.008692    0.449345  \n",
       "std      0.084556    0.480067  \n",
       "min      0.000010    0.000010  \n",
       "25%      0.000010    0.000010  \n",
       "50%      0.000010    0.000010  \n",
       "75%      0.000010    0.999933  \n",
       "max      0.999933    0.999933  "
      ]
     },
     "execution_count": 85,
     "metadata": {},
     "output_type": "execute_result"
    }
   ],
   "source": [
    "q_pop_merged[q_pop_merged['label'] == 'AJ'].describe()\n",
    "# q_pop_merged[q_pop_merged['label'] == 'EUR'].describe()\n",
    "# q_pop_merged[q_pop_merged['label'] == 'FIN'].describe()\n",
    "# q_pop_merged[q_pop_merged['label'] == 'EAS'].describe()\n",
    "# q_pop_merged[q_pop_merged['label'] == 'AMR'].describe()\n",
    "# q_pop_merged[q_pop_merged['label'] == 'SAS'].describe()\n",
    "# q_pop_merged[q_pop_merged['label'] == 'AAC'].describe()\n",
    "# q_pop_merged[q_pop_merged['label'] == 'AFR'].describe()\n",
    "# q_pop_merged[q_pop_merged['label'] == 'new'].describe()"
   ]
  },
  {
   "cell_type": "code",
   "execution_count": 75,
   "metadata": {},
   "outputs": [
    {
     "name": "stdout",
     "output_type": "stream",
     "text": [
      "[Errno 17] File exists: '/data/vitaled2/test_data/mcgill/ancestry'\n"
     ]
    }
   ],
   "source": [
    "# now bin samples by plate (96 samples per plate) and run individually per plate\n",
    "ancestry_outpath = f'{out_path}ancestry'\n",
    "try: \n",
    "    os.mkdir(ancestry_outpath) \n",
    "except OSError as error: \n",
    "    print(error)\n",
    "    \n",
    "def chunk_df(df, chunk_size = 96): \n",
    "    chunks = list()\n",
    "    num_chunks = len(df) // chunk_size + 1 \n",
    "    for i in range(num_chunks): \n",
    "        chunks.append(df[i*chunk_size:(i+1)*chunk_size]) \n",
    "    return chunks\n",
    "\n",
    "def merge_genos(geno_path1, geno_path2, out_name):\n",
    "    # attempt 1 at merging genos\n",
    "    bash1 = f\"plink --bfile {geno_path1} --allow-no-sex --bmerge {geno_path2} --out {out_name} --make-bed\"\n",
    "    shell_do(bash1)\n",
    "\n",
    "    # if {outname}-merge.missnp file created, snps need to be flipped and merge tried again\n",
    "    if os.path.isfile(f'{out_name}-merge.missnp'):\n",
    "        bash2 = f\"plink --bfile {geno_path1} --allow-no-sex --flip {out_name}-merge.missnp --make-bed --out {geno_path1}_flip\"\n",
    "        bash3 = f\"plink --bfile {geno_path1}_flip --allow-no-sex --bmerge {geno_path2} --out {out_name}_flip --make-bed\"\n",
    "\n",
    "        cmds1 = [bash2, bash3]\n",
    "\n",
    "        for cmd in cmds1:\n",
    "            shell_do(cmd)\n",
    "\n",
    "        #if another -merge.missnp file is created, these are likely triallelic positions and must be excluded and then try merge again\n",
    "        if os.path.isfile(f'{geno_path1}_flip-merge.missnp'):\n",
    "            bash4 = f\"plink --bfile {geno_path1}_flip --allow-no-sex --exclude {out_name}_flip-merge.missnp --out {geno_path1}_flip_pruned --make-bed\"\n",
    "            bash5 = f\"plink --bfile {geno_path1}_flip_pruned --allow-no-sex --bmerge {geno_path2} --out  {out_name} --make-bed\"\n",
    "\n",
    "            cmds2 = [bash4, bash5]\n",
    "\n",
    "            for cmd in cmds2:\n",
    "                shell_do(cmd)\n",
    "\n",
    "        # if second attempt at merge is successful, there are no triallelic snps and we can go ahead and move the _flip files to our _merged_ref_panel filenames \n",
    "        # for further processing\n",
    "        else:\n",
    "            suffix_list = ['bed','bim','fam']\n",
    "            for suffix in suffix_list:\n",
    "                shutil.copy(f'{out_name}_flip.{suffix}',f'{out_name}.{suffix}')\n",
    "\n",
    "    # if first merge works, there are no alleles in need of flipping and no triallelic positions and we can proceed!\n",
    "    else:\n",
    "        pass\n",
    "\n",
    "\n",
    "\n",
    "\n",
    "\n",
    "# def merge_genos(geno_path1, geno_path2, out_name):\n",
    "#     bash1 = f\"plink --bfile {geno_path1} --allow-no-sex --bmerge {geno_path2} --out {out_name}_bin_snplis --make-bed\"\n",
    "#     bash2 = f\"plink --bfile {geno_path1} --allow-no-sex --flip {out_name}_bin_snplis-merge.missnp --make-bed --out {out_name}_flip\"\n",
    "#     bash3 = f\"plink --bfile {geno_path1}_flip --allow-no-sex --bmerge {geno_path2} --out {out_name}_bin_snplis --make-bed\"\n",
    "#     bash4 = f\"plink --bfile {out_name}_flip --allow-no-sex --exclude {out_name}_bin_snplis-merge.missnp --out {out_name}_flip_pruned --make-bed\"\n",
    "#     bash5 = f\"plink --bfile {out_name}_flip_pruned --allow-no-sex --bmerge {geno_path2} --out  {out_name} --make-bed\"\n",
    "\n",
    "\n",
    "#     cmds = [bash1, bash2, bash3, bash4, bash5]\n",
    "    \n",
    "#     for cmd in cmds:\n",
    "#         shell_do(cmd)\n",
    "        \n",
    "def ld_prune(geno_path, out_name, window_size=50, step_size=10, rsq_thresh=0.1):\n",
    "    # now prune for LD\n",
    "    ld_prune1 = f'plink --bfile {geno_path} --allow-no-sex --indep-pairwise {window_size} {step_size} {rsq_thresh} --autosome --out {geno_path}_pruned_data'\n",
    "    ld_prune2 = f'plink --bfile {geno_path} --allow-no-sex --extract {geno_path}_pruned_data.prune.in --make-bed --out {out_name}'\n",
    "\n",
    "    ld_prune_cmds = [ld_prune1, ld_prune2]\n",
    "\n",
    "    for cmd in ld_prune_cmds:\n",
    "        shell_do(cmd)\n",
    "        \n",
    "def random_sample_snps(geno_path, out_name, n=10000):\n",
    "    rand_samp_snplist = f'{geno_path}_rand_samp.snplist'\n",
    "    bim = pd.read_csv(f'{geno_path}.bim', sep='\\t', header=None)\n",
    "    ref_panel_random_sample = bim.sample(n, random_state=123)\n",
    "    ref_panel_random_sample.to_csv(rand_samp_snplist, header=False, index=False, sep='\\t')\n",
    "\n",
    "    rand_sample_cmd = f'plink --bfile {geno_path} --allow-no-sex --extract {rand_samp_snplist} --autosome --make-bed --out {out_name}'\n",
    "    \n",
    "    shell_do(rand_sample_cmd)\n",
    "    \n",
    "    \n",
    "    \n",
    "# pca_cmd = f\"plink --bfile {geno_het_ref_panel_rand_samp} --out {geno_het_ref_panel_rand_samp}_pca --make-bed --pca 8\"\n",
    "    \n",
    "# cmds2 = [rand_sample_cmd, pca_cmd]\n",
    "\n",
    "# for cmd in cmds2:\n",
    "#     shell_do(cmd)"
   ]
  },
  {
   "cell_type": "code",
   "execution_count": null,
   "metadata": {},
   "outputs": [],
   "source": []
  },
  {
   "cell_type": "code",
   "execution_count": 76,
   "metadata": {},
   "outputs": [
    {
     "name": "stderr",
     "output_type": "stream",
     "text": [
      "Executing: plink --bfile /data/vitaled2/test_data/mcgill/MCGILL_all_call_rate_sex_het_ancestry_prune --allow-no-sex --keep /data/vitaled2/test_data/mcgill/ancestry/plate1_samples.txt --make-bed --out /data/vitaled2/test_data/mcgill/ancestry/plate1\n",
      "Executing: plink --bfile /data/vitaled2/test_data/mcgill/ancestry/plate1 --allow-no-sex --bmerge /data/LNG/vitaled2/1kgenomes/1kg_ashkj_ref_panel_gp2_pruned --out /data/vitaled2/test_data/mcgill/ancestry/plate1_ref --make-bed\n",
      "Executing: plink --bfile /data/vitaled2/test_data/mcgill/ancestry/plate1 --allow-no-sex --flip /data/vitaled2/test_data/mcgill/ancestry/plate1_ref-merge.missnp --make-bed --out /data/vitaled2/test_data/mcgill/ancestry/plate1_flip\n",
      "Executing: plink --bfile /data/vitaled2/test_data/mcgill/ancestry/plate1_flip --allow-no-sex --bmerge /data/LNG/vitaled2/1kgenomes/1kg_ashkj_ref_panel_gp2_pruned --out /data/vitaled2/test_data/mcgill/ancestry/plate1_ref_flip --make-bed\n",
      "Executing: plink --bfile /data/vitaled2/test_data/mcgill/ancestry/plate1_ref --allow-no-sex --indep-pairwise 50 10 0.1 --autosome --out /data/vitaled2/test_data/mcgill/ancestry/plate1_ref_pruned_data\n",
      "Executing: plink --bfile /data/vitaled2/test_data/mcgill/ancestry/plate1_ref --allow-no-sex --extract /data/vitaled2/test_data/mcgill/ancestry/plate1_ref_pruned_data.prune.in --make-bed --out /data/vitaled2/test_data/mcgill/ancestry/plate1_ref_ldprune_10krandsamp\n",
      "Executing: flashpca --bfile /data/vitaled2/test_data/mcgill/ancestry/plate1_ref_ldprune_10krandsamp -d 8 --outpc /data/vitaled2/test_data/mcgill/ancestry/plate1_ref_ldprune_10krandsamp.pcs --outvec /data/vitaled2/test_data/mcgill/ancestry/plate1_ref_ldprune_10krandsamp.vec --outval /data/vitaled2/test_data/mcgill/ancestry/plate1_ref_ldprune_10krandsamp.val --outpve /data/vitaled2/test_data/mcgill/ancestry/plate1_ref_ldprune_10krandsamp.pve\n",
      "Executing: plink --bfile /data/vitaled2/test_data/mcgill/MCGILL_all_call_rate_sex_het_ancestry_prune --allow-no-sex --keep /data/vitaled2/test_data/mcgill/ancestry/plate2_samples.txt --make-bed --out /data/vitaled2/test_data/mcgill/ancestry/plate2\n",
      "Executing: plink --bfile /data/vitaled2/test_data/mcgill/ancestry/plate2 --allow-no-sex --bmerge /data/LNG/vitaled2/1kgenomes/1kg_ashkj_ref_panel_gp2_pruned --out /data/vitaled2/test_data/mcgill/ancestry/plate2_ref --make-bed\n",
      "Executing: plink --bfile /data/vitaled2/test_data/mcgill/ancestry/plate2 --allow-no-sex --flip /data/vitaled2/test_data/mcgill/ancestry/plate2_ref-merge.missnp --make-bed --out /data/vitaled2/test_data/mcgill/ancestry/plate2_flip\n",
      "Executing: plink --bfile /data/vitaled2/test_data/mcgill/ancestry/plate2_flip --allow-no-sex --bmerge /data/LNG/vitaled2/1kgenomes/1kg_ashkj_ref_panel_gp2_pruned --out /data/vitaled2/test_data/mcgill/ancestry/plate2_ref_flip --make-bed\n",
      "Executing: plink --bfile /data/vitaled2/test_data/mcgill/ancestry/plate2_ref --allow-no-sex --indep-pairwise 50 10 0.1 --autosome --out /data/vitaled2/test_data/mcgill/ancestry/plate2_ref_pruned_data\n",
      "Executing: plink --bfile /data/vitaled2/test_data/mcgill/ancestry/plate2_ref --allow-no-sex --extract /data/vitaled2/test_data/mcgill/ancestry/plate2_ref_pruned_data.prune.in --make-bed --out /data/vitaled2/test_data/mcgill/ancestry/plate2_ref_ldprune_10krandsamp\n",
      "Executing: flashpca --bfile /data/vitaled2/test_data/mcgill/ancestry/plate2_ref_ldprune_10krandsamp -d 8 --outpc /data/vitaled2/test_data/mcgill/ancestry/plate2_ref_ldprune_10krandsamp.pcs --outvec /data/vitaled2/test_data/mcgill/ancestry/plate2_ref_ldprune_10krandsamp.vec --outval /data/vitaled2/test_data/mcgill/ancestry/plate2_ref_ldprune_10krandsamp.val --outpve /data/vitaled2/test_data/mcgill/ancestry/plate2_ref_ldprune_10krandsamp.pve\n",
      "Executing: plink --bfile /data/vitaled2/test_data/mcgill/MCGILL_all_call_rate_sex_het_ancestry_prune --allow-no-sex --keep /data/vitaled2/test_data/mcgill/ancestry/plate3_samples.txt --make-bed --out /data/vitaled2/test_data/mcgill/ancestry/plate3\n",
      "Executing: plink --bfile /data/vitaled2/test_data/mcgill/ancestry/plate3 --allow-no-sex --bmerge /data/LNG/vitaled2/1kgenomes/1kg_ashkj_ref_panel_gp2_pruned --out /data/vitaled2/test_data/mcgill/ancestry/plate3_ref --make-bed\n",
      "Executing: plink --bfile /data/vitaled2/test_data/mcgill/ancestry/plate3 --allow-no-sex --flip /data/vitaled2/test_data/mcgill/ancestry/plate3_ref-merge.missnp --make-bed --out /data/vitaled2/test_data/mcgill/ancestry/plate3_flip\n",
      "Executing: plink --bfile /data/vitaled2/test_data/mcgill/ancestry/plate3_flip --allow-no-sex --bmerge /data/LNG/vitaled2/1kgenomes/1kg_ashkj_ref_panel_gp2_pruned --out /data/vitaled2/test_data/mcgill/ancestry/plate3_ref_flip --make-bed\n",
      "Executing: plink --bfile /data/vitaled2/test_data/mcgill/ancestry/plate3_ref --allow-no-sex --indep-pairwise 50 10 0.1 --autosome --out /data/vitaled2/test_data/mcgill/ancestry/plate3_ref_pruned_data\n",
      "Executing: plink --bfile /data/vitaled2/test_data/mcgill/ancestry/plate3_ref --allow-no-sex --extract /data/vitaled2/test_data/mcgill/ancestry/plate3_ref_pruned_data.prune.in --make-bed --out /data/vitaled2/test_data/mcgill/ancestry/plate3_ref_ldprune_10krandsamp\n",
      "Executing: flashpca --bfile /data/vitaled2/test_data/mcgill/ancestry/plate3_ref_ldprune_10krandsamp -d 8 --outpc /data/vitaled2/test_data/mcgill/ancestry/plate3_ref_ldprune_10krandsamp.pcs --outvec /data/vitaled2/test_data/mcgill/ancestry/plate3_ref_ldprune_10krandsamp.vec --outval /data/vitaled2/test_data/mcgill/ancestry/plate3_ref_ldprune_10krandsamp.val --outpve /data/vitaled2/test_data/mcgill/ancestry/plate3_ref_ldprune_10krandsamp.pve\n",
      "Executing: plink --bfile /data/vitaled2/test_data/mcgill/MCGILL_all_call_rate_sex_het_ancestry_prune --allow-no-sex --keep /data/vitaled2/test_data/mcgill/ancestry/plate4_samples.txt --make-bed --out /data/vitaled2/test_data/mcgill/ancestry/plate4\n",
      "Executing: plink --bfile /data/vitaled2/test_data/mcgill/ancestry/plate4 --allow-no-sex --bmerge /data/LNG/vitaled2/1kgenomes/1kg_ashkj_ref_panel_gp2_pruned --out /data/vitaled2/test_data/mcgill/ancestry/plate4_ref --make-bed\n",
      "Executing: plink --bfile /data/vitaled2/test_data/mcgill/ancestry/plate4 --allow-no-sex --flip /data/vitaled2/test_data/mcgill/ancestry/plate4_ref-merge.missnp --make-bed --out /data/vitaled2/test_data/mcgill/ancestry/plate4_flip\n",
      "Executing: plink --bfile /data/vitaled2/test_data/mcgill/ancestry/plate4_flip --allow-no-sex --bmerge /data/LNG/vitaled2/1kgenomes/1kg_ashkj_ref_panel_gp2_pruned --out /data/vitaled2/test_data/mcgill/ancestry/plate4_ref_flip --make-bed\n",
      "Executing: plink --bfile /data/vitaled2/test_data/mcgill/ancestry/plate4_ref --allow-no-sex --indep-pairwise 50 10 0.1 --autosome --out /data/vitaled2/test_data/mcgill/ancestry/plate4_ref_pruned_data\n"
     ]
    },
    {
     "ename": "KeyboardInterrupt",
     "evalue": "",
     "output_type": "error",
     "traceback": [
      "\u001b[0;31m------------------------------------------------------------------------\u001b[0m",
      "\u001b[0;31mKeyboardInterrupt\u001b[0m                      Traceback (most recent call last)",
      "\u001b[0;32m<ipython-input-76-aef9a0a31d9a>\u001b[0m in \u001b[0;36m<module>\u001b[0;34m\u001b[0m\n\u001b[1;32m     26\u001b[0m \u001b[0;34m\u001b[0m\u001b[0m\n\u001b[1;32m     27\u001b[0m         \u001b[0;31m#prune merged ref panel and geno for LD\u001b[0m\u001b[0;34m\u001b[0m\u001b[0;34m\u001b[0m\u001b[0;34m\u001b[0m\u001b[0m\n\u001b[0;32m---> 28\u001b[0;31m         \u001b[0mld_prune\u001b[0m\u001b[0;34m(\u001b[0m\u001b[0mgeno_path\u001b[0m\u001b[0;34m=\u001b[0m\u001b[0mplate_ref\u001b[0m\u001b[0;34m,\u001b[0m \u001b[0mout_name\u001b[0m\u001b[0;34m=\u001b[0m\u001b[0mrand_10k\u001b[0m\u001b[0;34m)\u001b[0m\u001b[0;34m\u001b[0m\u001b[0;34m\u001b[0m\u001b[0m\n\u001b[0m\u001b[1;32m     29\u001b[0m \u001b[0;34m\u001b[0m\u001b[0m\n\u001b[1;32m     30\u001b[0m \u001b[0;31m#         random_sample_snps(geno_path=ld_pruned, out_name=rand_10k)\u001b[0m\u001b[0;34m\u001b[0m\u001b[0;34m\u001b[0m\u001b[0;34m\u001b[0m\u001b[0m\n",
      "\u001b[0;32m<ipython-input-75-e9c2edd6f883>\u001b[0m in \u001b[0;36mld_prune\u001b[0;34m(geno_path, out_name, window_size, step_size, rsq_thresh)\u001b[0m\n\u001b[1;32m     74\u001b[0m \u001b[0;34m\u001b[0m\u001b[0m\n\u001b[1;32m     75\u001b[0m     \u001b[0;32mfor\u001b[0m \u001b[0mcmd\u001b[0m \u001b[0;32min\u001b[0m \u001b[0mld_prune_cmds\u001b[0m\u001b[0;34m:\u001b[0m\u001b[0;34m\u001b[0m\u001b[0;34m\u001b[0m\u001b[0m\n\u001b[0;32m---> 76\u001b[0;31m         \u001b[0mshell_do\u001b[0m\u001b[0;34m(\u001b[0m\u001b[0mcmd\u001b[0m\u001b[0;34m)\u001b[0m\u001b[0;34m\u001b[0m\u001b[0;34m\u001b[0m\u001b[0m\n\u001b[0m\u001b[1;32m     77\u001b[0m \u001b[0;34m\u001b[0m\u001b[0m\n\u001b[1;32m     78\u001b[0m \u001b[0;32mdef\u001b[0m \u001b[0mrandom_sample_snps\u001b[0m\u001b[0;34m(\u001b[0m\u001b[0mgeno_path\u001b[0m\u001b[0;34m,\u001b[0m \u001b[0mout_name\u001b[0m\u001b[0;34m,\u001b[0m \u001b[0mn\u001b[0m\u001b[0;34m=\u001b[0m\u001b[0;36m10000\u001b[0m\u001b[0;34m)\u001b[0m\u001b[0;34m:\u001b[0m\u001b[0;34m\u001b[0m\u001b[0;34m\u001b[0m\u001b[0m\n",
      "\u001b[0;32m<ipython-input-2-1e85d8d97833>\u001b[0m in \u001b[0;36mshell_do\u001b[0;34m(command, log, return_log)\u001b[0m\n\u001b[1;32m      2\u001b[0m     \u001b[0mprint\u001b[0m\u001b[0;34m(\u001b[0m\u001b[0;34mf'Executing: {(\" \").join(command.split())}'\u001b[0m\u001b[0;34m,\u001b[0m \u001b[0mfile\u001b[0m\u001b[0;34m=\u001b[0m\u001b[0msys\u001b[0m\u001b[0;34m.\u001b[0m\u001b[0mstderr\u001b[0m\u001b[0;34m)\u001b[0m\u001b[0;34m\u001b[0m\u001b[0;34m\u001b[0m\u001b[0m\n\u001b[1;32m      3\u001b[0m \u001b[0;34m\u001b[0m\u001b[0m\n\u001b[0;32m----> 4\u001b[0;31m     \u001b[0mres\u001b[0m\u001b[0;34m=\u001b[0m\u001b[0msubprocess\u001b[0m\u001b[0;34m.\u001b[0m\u001b[0mrun\u001b[0m\u001b[0;34m(\u001b[0m\u001b[0mcommand\u001b[0m\u001b[0;34m.\u001b[0m\u001b[0msplit\u001b[0m\u001b[0;34m(\u001b[0m\u001b[0;34m)\u001b[0m\u001b[0;34m,\u001b[0m \u001b[0mstdout\u001b[0m\u001b[0;34m=\u001b[0m\u001b[0msubprocess\u001b[0m\u001b[0;34m.\u001b[0m\u001b[0mPIPE\u001b[0m\u001b[0;34m)\u001b[0m\u001b[0;34m\u001b[0m\u001b[0;34m\u001b[0m\u001b[0m\n\u001b[0m\u001b[1;32m      5\u001b[0m \u001b[0;34m\u001b[0m\u001b[0m\n\u001b[1;32m      6\u001b[0m     \u001b[0;32mif\u001b[0m \u001b[0mlog\u001b[0m\u001b[0;34m:\u001b[0m\u001b[0;34m\u001b[0m\u001b[0;34m\u001b[0m\u001b[0m\n",
      "\u001b[0;32m/usr/local/Anaconda/envs/jupyter/lib/python3.6/subprocess.py\u001b[0m in \u001b[0;36mrun\u001b[0;34m(input, timeout, check, *popenargs, **kwargs)\u001b[0m\n\u001b[1;32m    403\u001b[0m     \u001b[0;32mwith\u001b[0m \u001b[0mPopen\u001b[0m\u001b[0;34m(\u001b[0m\u001b[0;34m*\u001b[0m\u001b[0mpopenargs\u001b[0m\u001b[0;34m,\u001b[0m \u001b[0;34m**\u001b[0m\u001b[0mkwargs\u001b[0m\u001b[0;34m)\u001b[0m \u001b[0;32mas\u001b[0m \u001b[0mprocess\u001b[0m\u001b[0;34m:\u001b[0m\u001b[0;34m\u001b[0m\u001b[0;34m\u001b[0m\u001b[0m\n\u001b[1;32m    404\u001b[0m         \u001b[0;32mtry\u001b[0m\u001b[0;34m:\u001b[0m\u001b[0;34m\u001b[0m\u001b[0;34m\u001b[0m\u001b[0m\n\u001b[0;32m--> 405\u001b[0;31m             \u001b[0mstdout\u001b[0m\u001b[0;34m,\u001b[0m \u001b[0mstderr\u001b[0m \u001b[0;34m=\u001b[0m \u001b[0mprocess\u001b[0m\u001b[0;34m.\u001b[0m\u001b[0mcommunicate\u001b[0m\u001b[0;34m(\u001b[0m\u001b[0minput\u001b[0m\u001b[0;34m,\u001b[0m \u001b[0mtimeout\u001b[0m\u001b[0;34m=\u001b[0m\u001b[0mtimeout\u001b[0m\u001b[0;34m)\u001b[0m\u001b[0;34m\u001b[0m\u001b[0;34m\u001b[0m\u001b[0m\n\u001b[0m\u001b[1;32m    406\u001b[0m         \u001b[0;32mexcept\u001b[0m \u001b[0mTimeoutExpired\u001b[0m\u001b[0;34m:\u001b[0m\u001b[0;34m\u001b[0m\u001b[0;34m\u001b[0m\u001b[0m\n\u001b[1;32m    407\u001b[0m             \u001b[0mprocess\u001b[0m\u001b[0;34m.\u001b[0m\u001b[0mkill\u001b[0m\u001b[0;34m(\u001b[0m\u001b[0;34m)\u001b[0m\u001b[0;34m\u001b[0m\u001b[0;34m\u001b[0m\u001b[0m\n",
      "\u001b[0;32m/usr/local/Anaconda/envs/jupyter/lib/python3.6/subprocess.py\u001b[0m in \u001b[0;36mcommunicate\u001b[0;34m(self, input, timeout)\u001b[0m\n\u001b[1;32m    828\u001b[0m                 \u001b[0mself\u001b[0m\u001b[0;34m.\u001b[0m\u001b[0m_stdin_write\u001b[0m\u001b[0;34m(\u001b[0m\u001b[0minput\u001b[0m\u001b[0;34m)\u001b[0m\u001b[0;34m\u001b[0m\u001b[0;34m\u001b[0m\u001b[0m\n\u001b[1;32m    829\u001b[0m             \u001b[0;32melif\u001b[0m \u001b[0mself\u001b[0m\u001b[0;34m.\u001b[0m\u001b[0mstdout\u001b[0m\u001b[0;34m:\u001b[0m\u001b[0;34m\u001b[0m\u001b[0;34m\u001b[0m\u001b[0m\n\u001b[0;32m--> 830\u001b[0;31m                 \u001b[0mstdout\u001b[0m \u001b[0;34m=\u001b[0m \u001b[0mself\u001b[0m\u001b[0;34m.\u001b[0m\u001b[0mstdout\u001b[0m\u001b[0;34m.\u001b[0m\u001b[0mread\u001b[0m\u001b[0;34m(\u001b[0m\u001b[0;34m)\u001b[0m\u001b[0;34m\u001b[0m\u001b[0;34m\u001b[0m\u001b[0m\n\u001b[0m\u001b[1;32m    831\u001b[0m                 \u001b[0mself\u001b[0m\u001b[0;34m.\u001b[0m\u001b[0mstdout\u001b[0m\u001b[0;34m.\u001b[0m\u001b[0mclose\u001b[0m\u001b[0;34m(\u001b[0m\u001b[0;34m)\u001b[0m\u001b[0;34m\u001b[0m\u001b[0;34m\u001b[0m\u001b[0m\n\u001b[1;32m    832\u001b[0m             \u001b[0;32melif\u001b[0m \u001b[0mself\u001b[0m\u001b[0;34m.\u001b[0m\u001b[0mstderr\u001b[0m\u001b[0;34m:\u001b[0m\u001b[0;34m\u001b[0m\u001b[0;34m\u001b[0m\u001b[0m\n",
      "\u001b[0;31mKeyboardInterrupt\u001b[0m: "
     ]
    }
   ],
   "source": [
    "# chunk new data into 96 sample plates\n",
    "chunked = chunk_df(new_samples_fam, chunk_size=96)\n",
    "faststructure_swarmfile = f'{ancestry_outpath}/_faststructure.swarm'\n",
    "\n",
    "#point to faststructure script\n",
    "structure = f'/data/vitaled2/ref_panel/fastStructure/structure.py'\n",
    "\n",
    "with open(faststructure_swarmfile, 'w') as f:\n",
    "    for i, df in enumerate(chunked):\n",
    "        df.columns = ['FID','IID','PAT','MAT','SEX','PHENO']\n",
    "        plate = f'{ancestry_outpath}/plate{i+1}'\n",
    "        samples = f'{plate}_samples.txt'\n",
    "        plate_ref = f'{plate}_ref'\n",
    "        ld_pruned = f'{plate_ref}_ldprune'\n",
    "        rand_10k = f'{ld_pruned}_10krandsamp'\n",
    "        structure_out = f'{rand_10k}_structure'\n",
    "        # save sample ids for plate\n",
    "        df[['FID','IID']].to_csv(samples, sep='\\t', header=None, index=False)\n",
    "\n",
    "        # extract samples for plate\n",
    "        plink_extract = f'plink --bfile {geno_ancestry_prune} --allow-no-sex --keep {samples} --make-bed --out {plate}'\n",
    "        shell_do(plink_extract)\n",
    "\n",
    "        #merge geno with ref panel for each plate\n",
    "        merge_genos(geno_path1=plate, geno_path2=ref_panel, out_name=plate_ref)\n",
    "\n",
    "        #prune merged ref panel and geno for LD\n",
    "        ld_prune(geno_path=plate_ref, out_name=rand_10k)\n",
    "        \n",
    "#         random_sample_snps(geno_path=ld_pruned, out_name=rand_10k)\n",
    "        \n",
    "        #create pca output dir for each plate\n",
    "#         flashpca_cmd = f'\\\n",
    "# flashpca --bfile {ld_pruned}\\\n",
    "#  -d 8\\\n",
    "#  --outpc {ld_pruned}.pcs\\\n",
    "#  --outvec {ld_pruned}.vec\\\n",
    "#  --outval {ld_pruned}.val\\\n",
    "#  --outpve {ld_pruned}.pve'\n",
    "        \n",
    "#         shell_do(flashpca_cmd)\n",
    "        \n",
    "#         faststructure_cmd = f'\\\n",
    "# bash /data/vitaled2/GWAS/gwas/faststructure_setup_and_run.sh\\\n",
    "#  -i {ld_pruned}\\\n",
    "#  -o {structure_out}\\\n",
    "#  -f {structure}'\n",
    "        \n",
    "        \n",
    "        flashpca_cmd = f'\\\n",
    "flashpca --bfile {rand_10k}\\\n",
    " -d 8\\\n",
    " --outpc {rand_10k}.pcs\\\n",
    " --outvec {rand_10k}.vec\\\n",
    " --outval {rand_10k}.val\\\n",
    " --outpve {rand_10k}.pve'\n",
    "        \n",
    "        shell_do(flashpca_cmd)\n",
    "        \n",
    "#         faststructure_cmd = f'\\\n",
    "# bash /data/vitaled2/GWAS/gwas/faststructure_setup_and_run.sh\\\n",
    "#  -i {rand_10k}\\\n",
    "#  -o {structure_out}\\\n",
    "#  -f {structure}'\n",
    "        \n",
    "#         f.write(f'{faststructure_cmd}\\n')\n",
    "        \n",
    "# shell_do(f'swarm -f {faststructure_swarmfile} -g 16 --time=10:00:00 -t 20 --logdir {ancestry_outpath}/swarm --partition=norm')\n",
    "\n"
   ]
  },
  {
   "cell_type": "code",
   "execution_count": 81,
   "metadata": {},
   "outputs": [
    {
     "name": "stderr",
     "output_type": "stream",
     "text": [
      "*c* argument looks like a single numeric RGB or RGBA sequence, which should be avoided as value-mapping will have precedence in case its length matches with *x* & *y*.  Please use the *color* keyword-argument or provide a 2-D array with a single row if you intend to specify the same RGB or RGBA value for all points.\n",
      "*c* argument looks like a single numeric RGB or RGBA sequence, which should be avoided as value-mapping will have precedence in case its length matches with *x* & *y*.  Please use the *color* keyword-argument or provide a 2-D array with a single row if you intend to specify the same RGB or RGBA value for all points.\n",
      "*c* argument looks like a single numeric RGB or RGBA sequence, which should be avoided as value-mapping will have precedence in case its length matches with *x* & *y*.  Please use the *color* keyword-argument or provide a 2-D array with a single row if you intend to specify the same RGB or RGBA value for all points.\n",
      "*c* argument looks like a single numeric RGB or RGBA sequence, which should be avoided as value-mapping will have precedence in case its length matches with *x* & *y*.  Please use the *color* keyword-argument or provide a 2-D array with a single row if you intend to specify the same RGB or RGBA value for all points.\n",
      "*c* argument looks like a single numeric RGB or RGBA sequence, which should be avoided as value-mapping will have precedence in case its length matches with *x* & *y*.  Please use the *color* keyword-argument or provide a 2-D array with a single row if you intend to specify the same RGB or RGBA value for all points.\n",
      "*c* argument looks like a single numeric RGB or RGBA sequence, which should be avoided as value-mapping will have precedence in case its length matches with *x* & *y*.  Please use the *color* keyword-argument or provide a 2-D array with a single row if you intend to specify the same RGB or RGBA value for all points.\n",
      "*c* argument looks like a single numeric RGB or RGBA sequence, which should be avoided as value-mapping will have precedence in case its length matches with *x* & *y*.  Please use the *color* keyword-argument or provide a 2-D array with a single row if you intend to specify the same RGB or RGBA value for all points.\n",
      "*c* argument looks like a single numeric RGB or RGBA sequence, which should be avoided as value-mapping will have precedence in case its length matches with *x* & *y*.  Please use the *color* keyword-argument or provide a 2-D array with a single row if you intend to specify the same RGB or RGBA value for all points.\n",
      "*c* argument looks like a single numeric RGB or RGBA sequence, which should be avoided as value-mapping will have precedence in case its length matches with *x* & *y*.  Please use the *color* keyword-argument or provide a 2-D array with a single row if you intend to specify the same RGB or RGBA value for all points.\n"
     ]
    },
    {
     "data": {
      "image/png": "[encoded data removed]",
      "text/plain": [
       "<Figure size 576x576 with 1 Axes>"
      ]
     },
     "metadata": {
      "needs_background": "light"
     },
     "output_type": "display_data"
    }
   ],
   "source": [
    "# test plot pca by plate\n",
    "plate = pd.read_csv(f'{ancestry_outpath}/plate2_ref_ldprune_10krandsamp.pcs', sep='\\t')\n",
    "\n",
    "plate['FID'], plate['IID'] = plate['FID'].astype('str').str.lower(), plate['IID'].astype('str').str.lower()\n",
    "plate_labeled = plate.merge(combined_labels, how='left', on=['FID','IID'])\n",
    "\n",
    "\n",
    "def plot_pcs(labeled_pcs_df):\n",
    "    # now plot PCs\n",
    "    fig = plt.figure(figsize = (8,8))\n",
    "    ax = fig.add_subplot(1,1,1) \n",
    "    ax.set_xlabel('Principal Component 1', fontsize = 15)\n",
    "    ax.set_ylabel('Principal Component 2', fontsize = 15)\n",
    "    ax.set_title('2 component PCA', fontsize = 20)\n",
    "    cmap = cm.get_cmap('tab10')\n",
    "    targets = list(labeled_pcs_df.label.unique())\n",
    "    # targets = ['new', 'EUR']\n",
    "    colors = cmap(np.linspace(0, 1, len(targets)))\n",
    "    for target, color in zip(targets,colors):\n",
    "        indicesToKeep = labeled_pcs_df['label'] == target\n",
    "        ax.scatter(labeled_pcs_df.loc[indicesToKeep, 'PC4']\n",
    "                   , labeled_pcs_df.loc[indicesToKeep, 'PC5']\n",
    "                   , c = color\n",
    "                   , s = 50)\n",
    "    ax.legend(targets)\n",
    "    ax.grid()\n",
    "    \n",
    "plot_pcs(plate_labeled)"
   ]
  },
  {
   "cell_type": "code",
   "execution_count": null,
   "metadata": {},
   "outputs": [],
   "source": [
    "f'{ancestry_outpath}/plate1_ref_ldprune_10krandsamp.pcs'"
   ]
  },
  {
   "cell_type": "code",
   "execution_count": 56,
   "metadata": {},
   "outputs": [],
   "source": [
    "fam = pd.read_csv(f'{rand_10k}.fam', sep=' ', header=None)\n",
    "q_df = pd.read_csv(f'{rand_10k}_structure.8.meanQ', header=None, sep='\\s+')\n",
    "q_df.columns = [f'pop{i}' for i in range(1,9)]\n",
    "fam['highest_2_pops'] = q_df.apply(lambda s: s.abs().nlargest(2).index.tolist(), axis=1)\n",
    "fam['highest_pop'] = q_df.idxmax(axis=1)\n",
    "\n",
    "q_df['FID'], q_df['IID'], q_df['highest_pop'], q_df['highest_2_pops'] = fam[0], fam[1], fam['highest_pop'], fam['highest_2_pops']"
   ]
  },
  {
   "cell_type": "code",
   "execution_count": 57,
   "metadata": {},
   "outputs": [
    {
     "name": "stdout",
     "output_type": "stream",
     "text": [
      "pop2    717\n",
      "pop1    671\n",
      "pop5    506\n",
      "pop8    506\n",
      "pop7    494\n",
      "pop4    131\n",
      "pop6      8\n",
      "pop3      4\n",
      "Name: highest_pop, dtype: int64\n"
     ]
    }
   ],
   "source": [
    "pop = pd.read_csv(ancestry_labels, sep='\\t')\n",
    "q_pop_merged = q_df.merge(pop, left_on=['FID','IID'], right_on=['FID','IID'], how='left')\n",
    "q_pop_merged.label.fillna('new', inplace=True)\n",
    "print(q_pop_merged['highest_pop'].value_counts())"
   ]
  },
  {
   "cell_type": "code",
   "execution_count": 74,
   "metadata": {},
   "outputs": [
    {
     "data": {
      "text/html": [
       "<div>\n",
       "<style scoped>\n",
       "    .dataframe tbody tr th:only-of-type {\n",
       "        vertical-align: middle;\n",
       "    }\n",
       "\n",
       "    .dataframe tbody tr th {\n",
       "        vertical-align: top;\n",
       "    }\n",
       "\n",
       "    .dataframe thead th {\n",
       "        text-align: right;\n",
       "    }\n",
       "</style>\n",
       "<table border=\"1\" class=\"dataframe\">\n",
       "  <thead>\n",
       "    <tr style=\"text-align: right;\">\n",
       "      <th></th>\n",
       "      <th>pop1</th>\n",
       "      <th>pop2</th>\n",
       "      <th>pop3</th>\n",
       "      <th>pop4</th>\n",
       "      <th>pop5</th>\n",
       "      <th>pop6</th>\n",
       "      <th>pop7</th>\n",
       "      <th>pop8</th>\n",
       "    </tr>\n",
       "  </thead>\n",
       "  <tbody>\n",
       "    <tr>\n",
       "      <th>count</th>\n",
       "      <td>347.000000</td>\n",
       "      <td>347.000000</td>\n",
       "      <td>3.470000e+02</td>\n",
       "      <td>347.000000</td>\n",
       "      <td>347.000000</td>\n",
       "      <td>347.000000</td>\n",
       "      <td>347.000000</td>\n",
       "      <td>347.000000</td>\n",
       "    </tr>\n",
       "    <tr>\n",
       "      <th>mean</th>\n",
       "      <td>0.035146</td>\n",
       "      <td>0.423575</td>\n",
       "      <td>8.000000e-06</td>\n",
       "      <td>0.415153</td>\n",
       "      <td>0.015749</td>\n",
       "      <td>0.000075</td>\n",
       "      <td>0.092466</td>\n",
       "      <td>0.017831</td>\n",
       "    </tr>\n",
       "    <tr>\n",
       "      <th>std</th>\n",
       "      <td>0.094999</td>\n",
       "      <td>0.361544</td>\n",
       "      <td>1.696512e-21</td>\n",
       "      <td>0.333107</td>\n",
       "      <td>0.042213</td>\n",
       "      <td>0.000897</td>\n",
       "      <td>0.209418</td>\n",
       "      <td>0.067742</td>\n",
       "    </tr>\n",
       "    <tr>\n",
       "      <th>min</th>\n",
       "      <td>0.000008</td>\n",
       "      <td>0.000008</td>\n",
       "      <td>8.000000e-06</td>\n",
       "      <td>0.000008</td>\n",
       "      <td>0.000008</td>\n",
       "      <td>0.000008</td>\n",
       "      <td>0.000008</td>\n",
       "      <td>0.000008</td>\n",
       "    </tr>\n",
       "    <tr>\n",
       "      <th>25%</th>\n",
       "      <td>0.000008</td>\n",
       "      <td>0.000008</td>\n",
       "      <td>8.000000e-06</td>\n",
       "      <td>0.155877</td>\n",
       "      <td>0.000008</td>\n",
       "      <td>0.000008</td>\n",
       "      <td>0.000008</td>\n",
       "      <td>0.000008</td>\n",
       "    </tr>\n",
       "    <tr>\n",
       "      <th>50%</th>\n",
       "      <td>0.000008</td>\n",
       "      <td>0.499387</td>\n",
       "      <td>8.000000e-06</td>\n",
       "      <td>0.322670</td>\n",
       "      <td>0.000008</td>\n",
       "      <td>0.000008</td>\n",
       "      <td>0.000008</td>\n",
       "      <td>0.000008</td>\n",
       "    </tr>\n",
       "    <tr>\n",
       "      <th>75%</th>\n",
       "      <td>0.000008</td>\n",
       "      <td>0.745167</td>\n",
       "      <td>8.000000e-06</td>\n",
       "      <td>0.703104</td>\n",
       "      <td>0.000008</td>\n",
       "      <td>0.000008</td>\n",
       "      <td>0.013579</td>\n",
       "      <td>0.000008</td>\n",
       "    </tr>\n",
       "    <tr>\n",
       "      <th>max</th>\n",
       "      <td>0.831198</td>\n",
       "      <td>0.999947</td>\n",
       "      <td>8.000000e-06</td>\n",
       "      <td>0.999947</td>\n",
       "      <td>0.406275</td>\n",
       "      <td>0.013871</td>\n",
       "      <td>0.999947</td>\n",
       "      <td>0.549135</td>\n",
       "    </tr>\n",
       "  </tbody>\n",
       "</table>\n",
       "</div>"
      ],
      "text/plain": [
       "             pop1        pop2          pop3        pop4        pop5  \\\n",
       "count  347.000000  347.000000  3.470000e+02  347.000000  347.000000   \n",
       "mean     0.035146    0.423575  8.000000e-06    0.415153    0.015749   \n",
       "std      0.094999    0.361544  1.696512e-21    0.333107    0.042213   \n",
       "min      0.000008    0.000008  8.000000e-06    0.000008    0.000008   \n",
       "25%      0.000008    0.000008  8.000000e-06    0.155877    0.000008   \n",
       "50%      0.000008    0.499387  8.000000e-06    0.322670    0.000008   \n",
       "75%      0.000008    0.745167  8.000000e-06    0.703104    0.000008   \n",
       "max      0.831198    0.999947  8.000000e-06    0.999947    0.406275   \n",
       "\n",
       "             pop6        pop7        pop8  \n",
       "count  347.000000  347.000000  347.000000  \n",
       "mean     0.000075    0.092466    0.017831  \n",
       "std      0.000897    0.209418    0.067742  \n",
       "min      0.000008    0.000008    0.000008  \n",
       "25%      0.000008    0.000008    0.000008  \n",
       "50%      0.000008    0.000008    0.000008  \n",
       "75%      0.000008    0.013579    0.000008  \n",
       "max      0.013871    0.999947    0.549135  "
      ]
     },
     "execution_count": 74,
     "metadata": {},
     "output_type": "execute_result"
    }
   ],
   "source": [
    "q_pop_merged[q_pop_merged['label'] == 'AJ'].describe()\n",
    "q_pop_merged[q_pop_merged['label'] == 'EUR'].describe()\n",
    "q_pop_merged[q_pop_merged['label'] == 'FIN'].describe()\n",
    "q_pop_merged[q_pop_merged['label'] == 'EAS'].describe()\n",
    "q_pop_merged[q_pop_merged['label'] == 'AMR'].describe()\n",
    "# q_pop_merged[q_pop_merged['label'] == 'SAS'].describe()\n",
    "# q_pop_merged[q_pop_merged['label'] == 'AAC'].describe()\n",
    "# q_pop_merged[q_pop_merged['label'] == 'AFR'].describe()\n",
    "# q_pop_merged[q_pop_merged['label'] == 'new'].describe()"
   ]
  },
  {
   "cell_type": "code",
   "execution_count": 94,
   "metadata": {},
   "outputs": [
    {
     "data": {
      "text/plain": [
       "'python fastStructure/chooseK.py --input=/data/vitaled2/test_data/FIN/ancestry/plate10_ref_ldprune_10krandsamp_structure'"
      ]
     },
     "execution_count": 94,
     "metadata": {},
     "output_type": "execute_result"
    }
   ],
   "source": [
    "choosek = 'fastStructure/chooseK.py'\n",
    "choosek_cmd = f'python {choosek} --input={rand_10k}_structure'\n",
    "# shell_do(choosek_cmd)\n",
    "choosek_cmd"
   ]
  },
  {
   "cell_type": "code",
   "execution_count": 95,
   "metadata": {},
   "outputs": [
    {
     "data": {
      "text/plain": [
       "'bash /data/vitaled2/GWAS/gwas/faststructure_setup_and_run.sh -i /data/vitaled2/test_data/FIN/ancestry/plate10_ref_ldprune_10krandsamp_structure -o /data/vitaled2/test_data/FIN/ancestry/plate10_ref_ldprune_10krandsamp_structure_choosek -f fastStructure/chooseK.py'"
      ]
     },
     "execution_count": 95,
     "metadata": {},
     "output_type": "execute_result"
    }
   ],
   "source": [
    "choosek_cmd = f'bash /data/vitaled2/GWAS/gwas/faststructure_setup_and_run.sh\\\n",
    " -i {rand_10k}_structure\\\n",
    " -o {rand_10k}_structure_choosek\\\n",
    " -f {choosek}'\n",
    "choosek_cmd        "
   ]
  },
  {
   "cell_type": "code",
   "execution_count": null,
   "metadata": {},
   "outputs": [],
   "source": []
  }
 ],
 "metadata": {
  "kernelspec": {
   "display_name": "Python 3",
   "language": "python",
   "name": "python3"
  },
  "language_info": {
   "codemirror_mode": {
    "name": "ipython",
    "version": 3
   },
   "file_extension": ".py",
   "mimetype": "text/x-python",
   "name": "python",
   "nbconvert_exporter": "python",
   "pygments_lexer": "ipython3",
   "version": "3.6.7"
  }
 },
 "nbformat": 4,
 "nbformat_minor": 4
}
