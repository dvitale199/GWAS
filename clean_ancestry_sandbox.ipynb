{
 "cells": [
  {
   "cell_type": "code",
   "execution_count": 1,
   "metadata": {},
   "outputs": [],
   "source": [
    "import pandas as pd\n",
    "import subprocess\n",
    "import sys\n",
    "import matplotlib.pyplot as plt\n",
    "from matplotlib import cm \n",
    "import numpy as np\n",
    "import os\n",
    "import shutil\n",
    "\n",
    "#local imports\n",
    "from gwas.qc import QC\n",
    "from gwas.utils import shell_do, merge_genos, ld_prune, random_sample_snps, flash_pca, plot_pcs"
   ]
  },
  {
   "cell_type": "code",
   "execution_count": 2,
   "metadata": {},
   "outputs": [],
   "source": [
    "structure = 'fastStructure/structure.py'\n",
    "# geno_name = '/data/vitaled2/test_data/spanish_gwas2/SPAIN2ndpart_pheno'\n",
    "# out_path = '/data/vitaled2/test_data/spanish_gwas2/'\n",
    "# geno_name = '/data/vitaled2/test_data/FIN/PD.FIN'\n",
    "# out_path = '/data/vitaled2/test_data/FIN/'\n",
    "geno_name = '/data/vitaled2/test_data/mcgill/MCGILL_all'\n",
    "out_path = '/data/vitaled2/test_data/mcgill'\n",
    "\n",
    "ref_dir_path = f'/data/LNG/vitaled2/1kgenomes'\n",
    "ref_panel = f'{ref_dir_path}/1kg_ashkj_ref_panel_gp2_pruned'\n",
    "\n",
    "\n",
    "# demographic info\n",
    "ref_dir_path = f'/data/LNG/vitaled2/1kgenomes'\n",
    "ashk_data = f'/data/LNG/iwakih2/dataset/Jew/GSE23636'\n",
    "onekg_demog_path = f'{ref_dir_path}/igsr_samples.tsv'\n",
    "ancestry_file = f'{ref_dir_path}/ref_panel_ancestry.txt'"
   ]
  },
  {
   "cell_type": "code",
   "execution_count": 3,
   "metadata": {},
   "outputs": [],
   "source": [
    "# now make filenames:\n",
    "geno_call_rate = geno_name + \"_call_rate\"\n",
    "geno_sex = geno_call_rate + \"_sex\"\n",
    "geno_het =  geno_sex + \"_het\"\n"
   ]
  },
  {
   "cell_type": "code",
   "execution_count": 4,
   "metadata": {},
   "outputs": [
    {
     "name": "stdout",
     "output_type": "stream",
     "text": [
      "PROCESSING THE FOLLOWING GENOTYPES: /data/vitaled2/test_data/mcgill/MCGILL_all\n",
      "\n",
      "PRUNING FOR CALL RATE\n",
      "logging to /data/vitaled2/test_data/mcgill/MCGILL_all.PLINK_STEPS.log\n",
      "***********************************************\n",
      "\n",
      "CHECKING SEXES\n",
      "logging to /data/vitaled2/test_data/mcgill/MCGILL_all.PLINK_STEPS.log\n",
      "***********************************************\n",
      "\n",
      "PRUNING FOR HETEROZYGOSITY\n",
      "logging to /data/vitaled2/test_data/mcgill/MCGILL_all.PLINK_STEPS.log\n",
      "***********************************************\n",
      "\n"
     ]
    }
   ],
   "source": [
    "# # INSTANTIATE QC WITH INPUT NAME AND OUTPUT NAME     \n",
    "qc = QC(geno_name, rare=False)\n",
    "\n",
    "# NOW RUN COMMANDS\n",
    "# FIRST, CLEAR EXISTING LOGFILE\n",
    "qc.rm_log()\n",
    "\n",
    "# run het pruning\n",
    "qc.call_rate_pruning(geno_name)\n",
    "qc.sex_check(geno_call_rate)\n",
    "qc.het_pruning(geno_sex)"
   ]
  },
  {
   "cell_type": "code",
   "execution_count": 5,
   "metadata": {},
   "outputs": [
    {
     "name": "stderr",
     "output_type": "stream",
     "text": [
      "Executing: plink --bfile /data/vitaled2/test_data/mcgill/MCGILL_all_call_rate_sex_het --maf 0.05 --geno 0.01 --hwe 0.0001 --autosome --allow-no-sex --exclude /data/vitaled2/test_data/mcgill/MCGILL_all_call_rate_sex_het_palindromes.snplist --make-bed --out /data/vitaled2/test_data/mcgill/MCGILL_all_call_rate_sex_het_ancestry_prune1\n",
      "Executing: plink --bfile /data/vitaled2/test_data/mcgill/MCGILL_all_call_rate_sex_het_ancestry_prune1 --exclude range /data/LNG/vitaled2/1kgenomes/hg19_exclusion_regions.txt --autosome --allow-no-sex --make-bed --out /data/vitaled2/test_data/mcgill/MCGILL_all_call_rate_sex_het_ancestry_prune2\n"
     ]
    }
   ],
   "source": [
    "# keep this for now, but eventually should be a function\n",
    "\n",
    "geno_ancestry_prune1 = f'{geno_het}_ancestry_prune1'\n",
    "geno_ancestry_prune2 = f'{geno_het}_ancestry_prune2'\n",
    "# geno_ancestry_prune3 = f'{geno_het}_ancestry_prune3'\n",
    "\n",
    "# prune geno_het for geno, maf, hwe, and palindromes\n",
    "geno_het_bim = pd.read_csv(f'{geno_het}.bim', sep='\\t', header=None)\n",
    "\n",
    "# find and drop palindromes in geno_het bim file\n",
    "geno_het_bim.columns = ['chr', 'rsid', 'kb', 'pos', 'a1', 'a2']\n",
    "palindromes = geno_het_bim.loc[((geno_het_bim.a1 == 'A') & (geno_het_bim.a2 == 'T')) | ((geno_het_bim.a1 == 'T') & (geno_het_bim.a2 == 'A')) | ((geno_het_bim.a1 == 'C') & (geno_het_bim.a2 == 'G')) | ((geno_het_bim.a1 == 'G') & (geno_het_bim.a2 == 'C'))]\n",
    "palindromes['rsid'].to_csv(f'{geno_het}_palindromes.snplist', header=False, index=False, sep='\\t')\n",
    "\n",
    "plink_cmd1 = f'plink --bfile {geno_het}\\\n",
    " --maf 0.05\\\n",
    " --geno 0.01\\\n",
    " --hwe 0.0001\\\n",
    " --autosome\\\n",
    " --allow-no-sex\\\n",
    " --exclude {geno_het}_palindromes.snplist\\\n",
    " --make-bed\\\n",
    " --out {geno_ancestry_prune1}' \n",
    "\n",
    "#remove high-LD regions\n",
    "plink_cmd2 = f'plink --bfile {geno_ancestry_prune1}\\\n",
    " --exclude range {ref_dir_path}/hg19_exclusion_regions.txt\\\n",
    " --autosome\\\n",
    " --allow-no-sex\\\n",
    " --make-bed\\\n",
    " --out {geno_ancestry_prune2}'\n",
    "\n",
    "cmds = [plink_cmd1, plink_cmd2]\n",
    "\n",
    "for cmd in cmds:\n",
    "    shell_do(cmd)\n",
    "    \n",
    "# prune for LD\n",
    "# ld_prune(geno_ancestry_prune2, geno_ancestry_prune3)\n"
   ]
  },
  {
   "cell_type": "code",
   "execution_count": 6,
   "metadata": {},
   "outputs": [],
   "source": [
    "# now get common snps between pruned ref panel and pruned geno\n",
    "geno_pruned_bim = pd.read_csv(f'{geno_ancestry_prune2}.bim', sep='\\t', header=None)\n",
    "geno_pruned_bim.columns = ['chr', 'rsid', 'kb', 'pos', 'a1', 'a2']\n",
    "ref_bim = pd.read_csv(f'{ref_panel}.bim', sep='\\t', header=None)\n",
    "ref_bim.columns = ['chr', 'rsid', 'kb', 'pos', 'a1', 'a2']\n",
    "\n",
    "common_snps = ref_bim.merge(geno_pruned_bim, how='inner', on=['rsid'])\n",
    "\n",
    "common_snps['rsid'].to_csv(f'{out_path}/geno_ref_panel_common.snps', sep='\\t', header=False, index=False)\n",
    "\n"
   ]
  },
  {
   "cell_type": "code",
   "execution_count": 7,
   "metadata": {},
   "outputs": [
    {
     "name": "stderr",
     "output_type": "stream",
     "text": [
      "Executing: plink --bfile /data/LNG/vitaled2/1kgenomes/1kg_ashkj_ref_panel_gp2_pruned --extract /data/vitaled2/test_data/mcgill/geno_ref_panel_common.snps --make-bed --out /data/vitaled2/test_data/mcgill/ref_panel_common_snps\n",
      "Executing: flashpca --bfile /data/vitaled2/test_data/mcgill/ref_panel_common_snps -d 8 --outpc /data/vitaled2/test_data/mcgill/ref_panel_common_snps.pcs --outvec /data/vitaled2/test_data/mcgill/ref_panel_common_snps.vec --outval /data/vitaled2/test_data/mcgill/ref_panel_common_snps.val --outpve /data/vitaled2/test_data/mcgill/ref_panel_common_snps.pve --outload /data/vitaled2/test_data/mcgill/ref_panel_common_snps.loadings --outmeansd /data/vitaled2/test_data/mcgill/ref_panel_common_snps.meansd\n"
     ]
    }
   ],
   "source": [
    "# now, run pca on ref panel for snps in common with geno\n",
    "ref_panel_common_snps = f'{out_path}/ref_panel_common_snps'\n",
    "common_snps = f'{out_path}/geno_ref_panel_common.snps'\n",
    "ext_snps_cmd = f'plink --bfile {ref_panel} --extract {common_snps} --make-bed --out {ref_panel_common_snps}'\n",
    "shell_do(ext_snps_cmd)\n",
    "\n",
    "# run pca\n",
    "flash_pca(ref_panel_common_snps, ref_panel_common_snps)"
   ]
  },
  {
   "cell_type": "code",
   "execution_count": 8,
   "metadata": {},
   "outputs": [
    {
     "name": "stderr",
     "output_type": "stream",
     "text": [
      "*c* argument looks like a single numeric RGB or RGBA sequence, which should be avoided as value-mapping will have precedence in case its length matches with *x* & *y*.  Please use the *color* keyword-argument or provide a 2-D array with a single row if you intend to specify the same RGB or RGBA value for all points.\n",
      "*c* argument looks like a single numeric RGB or RGBA sequence, which should be avoided as value-mapping will have precedence in case its length matches with *x* & *y*.  Please use the *color* keyword-argument or provide a 2-D array with a single row if you intend to specify the same RGB or RGBA value for all points.\n",
      "*c* argument looks like a single numeric RGB or RGBA sequence, which should be avoided as value-mapping will have precedence in case its length matches with *x* & *y*.  Please use the *color* keyword-argument or provide a 2-D array with a single row if you intend to specify the same RGB or RGBA value for all points.\n",
      "*c* argument looks like a single numeric RGB or RGBA sequence, which should be avoided as value-mapping will have precedence in case its length matches with *x* & *y*.  Please use the *color* keyword-argument or provide a 2-D array with a single row if you intend to specify the same RGB or RGBA value for all points.\n",
      "*c* argument looks like a single numeric RGB or RGBA sequence, which should be avoided as value-mapping will have precedence in case its length matches with *x* & *y*.  Please use the *color* keyword-argument or provide a 2-D array with a single row if you intend to specify the same RGB or RGBA value for all points.\n",
      "*c* argument looks like a single numeric RGB or RGBA sequence, which should be avoided as value-mapping will have precedence in case its length matches with *x* & *y*.  Please use the *color* keyword-argument or provide a 2-D array with a single row if you intend to specify the same RGB or RGBA value for all points.\n",
      "*c* argument looks like a single numeric RGB or RGBA sequence, which should be avoided as value-mapping will have precedence in case its length matches with *x* & *y*.  Please use the *color* keyword-argument or provide a 2-D array with a single row if you intend to specify the same RGB or RGBA value for all points.\n",
      "*c* argument looks like a single numeric RGB or RGBA sequence, which should be avoided as value-mapping will have precedence in case its length matches with *x* & *y*.  Please use the *color* keyword-argument or provide a 2-D array with a single row if you intend to specify the same RGB or RGBA value for all points.\n"
     ]
    },
    {
     "name": "stdout",
     "output_type": "stream",
     "text": [
      "EAS    504\n",
      "AFR    504\n",
      "SAS    489\n",
      "AJ     471\n",
      "EUR    404\n",
      "AMR    347\n",
      "AAC    157\n",
      "FIN     99\n",
      "Name: label, dtype: int64\n"
     ]
    },
    {
     "data": {
      "image/png": "[encoded data removed]",
      "text/plain": [
       "<Figure size 576x576 with 1 Axes>"
      ]
     },
     "metadata": {
      "needs_background": "light"
     },
     "output_type": "display_data"
    }
   ],
   "source": [
    "# read ancestry file\n",
    "ancestry = pd.read_csv('/data/LNG/vitaled2/1kgenomes/ref_panel_ancestry.txt', sep='\\t')\n",
    "ref_fam = pd.read_csv(f'{ref_panel}.fam', sep=' ', header=None)\n",
    "ref_labeled = ref_fam.merge(ancestry, how='left', left_on=[0,1], right_on=['FID','IID'])\n",
    "\n",
    "pca = pd.read_csv(f'{ref_panel_common_snps}.pcs', sep='\\t')\n",
    "\n",
    "# combined_labels\n",
    "labeled_pca = pca.merge(ref_labeled, how='left', on=['FID','IID'])\n",
    "labeled_pca.drop(columns=[0,1,2,3,4,5],inplace=True)\n",
    "print(labeled_pca.label.value_counts())\n",
    "# plot it!\n",
    "plot_pcs(labeled_pca)"
   ]
  },
  {
   "cell_type": "code",
   "execution_count": 9,
   "metadata": {},
   "outputs": [],
   "source": [
    "# get reference alleles from ref_panel_common_snps\n",
    "ref_panel_common_snps_ref_alleles = f'{ref_panel_common_snps}.ref_allele'\n",
    "ref_panel_common_snps_bim = pd.read_csv(f'{ref_panel_common_snps}.bim', header=None, sep='\\t')\n",
    "ref_panel_common_snps_bim.columns = ['chr', 'rsid', 'kb', 'pos', 'a1', 'a2']\n",
    "ref_panel_common_snps_bim[['rsid','a1']].to_csv(ref_panel_common_snps_ref_alleles, sep='\\t', header=False, index=False)"
   ]
  },
  {
   "cell_type": "code",
   "execution_count": 10,
   "metadata": {},
   "outputs": [
    {
     "name": "stderr",
     "output_type": "stream",
     "text": [
      "Executing: plink --bfile /data/vitaled2/test_data/mcgill/MCGILL_all_call_rate_sex_het_ancestry_prune2 --extract /data/vitaled2/test_data/mcgill/geno_ref_panel_common.snps --reference-allele /data/vitaled2/test_data/mcgill/ref_panel_common_snps.ref_allele --make-bed --out /data/vitaled2/test_data/mcgill/MCGILL_all_call_rate_sex_het_ancestry_prune2_common_snps\n"
     ]
    }
   ],
   "source": [
    "geno_common_snps = f'{geno_ancestry_prune2}_common_snps'\n",
    "\n",
    "ext_snps_cmd = f'plink --bfile {geno_ancestry_prune2} --extract {common_snps} --reference-allele {ref_panel_common_snps_ref_alleles} --make-bed --out {geno_common_snps}'\n",
    "shell_do(ext_snps_cmd)"
   ]
  },
  {
   "cell_type": "code",
   "execution_count": 11,
   "metadata": {},
   "outputs": [
    {
     "name": "stderr",
     "output_type": "stream",
     "text": [
      "Executing: flashpca --bfile /data/vitaled2/test_data/mcgill/MCGILL_all_call_rate_sex_het_ancestry_prune2_common_snps --project --inmeansd /data/vitaled2/test_data/mcgill/ref_panel_common_snps.meansd --outproj /data/vitaled2/test_data/mcgill/MCGILL_all_call_rate_sex_het_ancestry_prune2_common_snps.projections --inload /data/vitaled2/test_data/mcgill/ref_panel_common_snps.loadings -v\n"
     ]
    }
   ],
   "source": [
    "project_geno_pcs_cmd = f'flashpca --bfile {geno_common_snps}\\\n",
    " --project\\\n",
    " --inmeansd\\\n",
    " {ref_panel_common_snps}.meansd\\\n",
    " --outproj {geno_common_snps}.projections\\\n",
    " --inload {ref_panel_common_snps}.loadings\\\n",
    " -v'\n",
    "\n",
    "shell_do(project_geno_pcs_cmd)\n",
    "# print(project_geno_pcs_cmd)"
   ]
  },
  {
   "cell_type": "code",
   "execution_count": 27,
   "metadata": {},
   "outputs": [
    {
     "data": {
      "text/html": [
       "<div>\n",
       "<style scoped>\n",
       "    .dataframe tbody tr th:only-of-type {\n",
       "        vertical-align: middle;\n",
       "    }\n",
       "\n",
       "    .dataframe tbody tr th {\n",
       "        vertical-align: top;\n",
       "    }\n",
       "\n",
       "    .dataframe thead th {\n",
       "        text-align: right;\n",
       "    }\n",
       "</style>\n",
       "<table border=\"1\" class=\"dataframe\">\n",
       "  <thead>\n",
       "    <tr style=\"text-align: right;\">\n",
       "      <th></th>\n",
       "      <th>FID</th>\n",
       "      <th>IID</th>\n",
       "      <th>PC1</th>\n",
       "      <th>PC2</th>\n",
       "      <th>PC3</th>\n",
       "      <th>PC4</th>\n",
       "      <th>PC5</th>\n",
       "      <th>PC6</th>\n",
       "      <th>PC7</th>\n",
       "      <th>PC8</th>\n",
       "      <th>label</th>\n",
       "    </tr>\n",
       "  </thead>\n",
       "  <tbody>\n",
       "    <tr>\n",
       "      <th>0</th>\n",
       "      <td>AJ</td>\n",
       "      <td>1A2</td>\n",
       "      <td>-0.081866</td>\n",
       "      <td>0.202276</td>\n",
       "      <td>-0.032451</td>\n",
       "      <td>0.067536</td>\n",
       "      <td>0.082021</td>\n",
       "      <td>-0.004461</td>\n",
       "      <td>-0.014771</td>\n",
       "      <td>0.003977</td>\n",
       "      <td>AJ</td>\n",
       "    </tr>\n",
       "    <tr>\n",
       "      <th>1</th>\n",
       "      <td>AJ</td>\n",
       "      <td>1A3</td>\n",
       "      <td>-0.055714</td>\n",
       "      <td>0.182318</td>\n",
       "      <td>-0.031472</td>\n",
       "      <td>0.056675</td>\n",
       "      <td>0.098907</td>\n",
       "      <td>-0.005778</td>\n",
       "      <td>-0.021555</td>\n",
       "      <td>-0.011962</td>\n",
       "      <td>AJ</td>\n",
       "    </tr>\n",
       "    <tr>\n",
       "      <th>2</th>\n",
       "      <td>AJ</td>\n",
       "      <td>1A5</td>\n",
       "      <td>-0.060500</td>\n",
       "      <td>0.226522</td>\n",
       "      <td>-0.032951</td>\n",
       "      <td>0.088775</td>\n",
       "      <td>0.124442</td>\n",
       "      <td>0.019479</td>\n",
       "      <td>-0.041475</td>\n",
       "      <td>-0.008812</td>\n",
       "      <td>AJ</td>\n",
       "    </tr>\n",
       "    <tr>\n",
       "      <th>3</th>\n",
       "      <td>AJ</td>\n",
       "      <td>1A6</td>\n",
       "      <td>-0.046325</td>\n",
       "      <td>0.207300</td>\n",
       "      <td>-0.024395</td>\n",
       "      <td>0.055186</td>\n",
       "      <td>0.085453</td>\n",
       "      <td>-0.008589</td>\n",
       "      <td>-0.020816</td>\n",
       "      <td>0.015212</td>\n",
       "      <td>AJ</td>\n",
       "    </tr>\n",
       "    <tr>\n",
       "      <th>4</th>\n",
       "      <td>AJ</td>\n",
       "      <td>1A8</td>\n",
       "      <td>-0.046389</td>\n",
       "      <td>0.177595</td>\n",
       "      <td>-0.032404</td>\n",
       "      <td>0.063480</td>\n",
       "      <td>0.084394</td>\n",
       "      <td>-0.015591</td>\n",
       "      <td>-0.026968</td>\n",
       "      <td>0.012325</td>\n",
       "      <td>AJ</td>\n",
       "    </tr>\n",
       "    <tr>\n",
       "      <th>...</th>\n",
       "      <td>...</td>\n",
       "      <td>...</td>\n",
       "      <td>...</td>\n",
       "      <td>...</td>\n",
       "      <td>...</td>\n",
       "      <td>...</td>\n",
       "      <td>...</td>\n",
       "      <td>...</td>\n",
       "      <td>...</td>\n",
       "      <td>...</td>\n",
       "      <td>...</td>\n",
       "    </tr>\n",
       "    <tr>\n",
       "      <th>2361</th>\n",
       "      <td>CEPH-1334</td>\n",
       "      <td>NA12146</td>\n",
       "      <td>-0.060862</td>\n",
       "      <td>0.175638</td>\n",
       "      <td>-0.019143</td>\n",
       "      <td>0.024342</td>\n",
       "      <td>-0.063812</td>\n",
       "      <td>-0.017221</td>\n",
       "      <td>-0.012467</td>\n",
       "      <td>0.012442</td>\n",
       "      <td>new</td>\n",
       "    </tr>\n",
       "    <tr>\n",
       "      <th>2362</th>\n",
       "      <td>CEPH-1334</td>\n",
       "      <td>NA12239</td>\n",
       "      <td>-0.068274</td>\n",
       "      <td>0.149561</td>\n",
       "      <td>-0.030637</td>\n",
       "      <td>0.023234</td>\n",
       "      <td>-0.075129</td>\n",
       "      <td>0.003473</td>\n",
       "      <td>-0.016081</td>\n",
       "      <td>0.009250</td>\n",
       "      <td>new</td>\n",
       "    </tr>\n",
       "    <tr>\n",
       "      <th>2363</th>\n",
       "      <td>CEPH-1408</td>\n",
       "      <td>NA10830</td>\n",
       "      <td>-0.061973</td>\n",
       "      <td>0.160249</td>\n",
       "      <td>-0.018466</td>\n",
       "      <td>0.035719</td>\n",
       "      <td>-0.083846</td>\n",
       "      <td>0.005005</td>\n",
       "      <td>-0.015302</td>\n",
       "      <td>0.002239</td>\n",
       "      <td>new</td>\n",
       "    </tr>\n",
       "    <tr>\n",
       "      <th>2364</th>\n",
       "      <td>CEPH-1408</td>\n",
       "      <td>NA12154</td>\n",
       "      <td>-0.049287</td>\n",
       "      <td>0.151205</td>\n",
       "      <td>-0.024470</td>\n",
       "      <td>0.024935</td>\n",
       "      <td>-0.085320</td>\n",
       "      <td>-0.020427</td>\n",
       "      <td>-0.009072</td>\n",
       "      <td>-0.014955</td>\n",
       "      <td>new</td>\n",
       "    </tr>\n",
       "    <tr>\n",
       "      <th>2365</th>\n",
       "      <td>CEPH-1408</td>\n",
       "      <td>NA12236</td>\n",
       "      <td>-0.067884</td>\n",
       "      <td>0.166967</td>\n",
       "      <td>-0.020973</td>\n",
       "      <td>0.031629</td>\n",
       "      <td>-0.084978</td>\n",
       "      <td>0.006194</td>\n",
       "      <td>-0.007843</td>\n",
       "      <td>0.004105</td>\n",
       "      <td>new</td>\n",
       "    </tr>\n",
       "  </tbody>\n",
       "</table>\n",
       "<p>5341 rows × 11 columns</p>\n",
       "</div>"
      ],
      "text/plain": [
       "            FID      IID       PC1       PC2       PC3       PC4       PC5  \\\n",
       "0            AJ      1A2 -0.081866  0.202276 -0.032451  0.067536  0.082021   \n",
       "1            AJ      1A3 -0.055714  0.182318 -0.031472  0.056675  0.098907   \n",
       "2            AJ      1A5 -0.060500  0.226522 -0.032951  0.088775  0.124442   \n",
       "3            AJ      1A6 -0.046325  0.207300 -0.024395  0.055186  0.085453   \n",
       "4            AJ      1A8 -0.046389  0.177595 -0.032404  0.063480  0.084394   \n",
       "...         ...      ...       ...       ...       ...       ...       ...   \n",
       "2361  CEPH-1334  NA12146 -0.060862  0.175638 -0.019143  0.024342 -0.063812   \n",
       "2362  CEPH-1334  NA12239 -0.068274  0.149561 -0.030637  0.023234 -0.075129   \n",
       "2363  CEPH-1408  NA10830 -0.061973  0.160249 -0.018466  0.035719 -0.083846   \n",
       "2364  CEPH-1408  NA12154 -0.049287  0.151205 -0.024470  0.024935 -0.085320   \n",
       "2365  CEPH-1408  NA12236 -0.067884  0.166967 -0.020973  0.031629 -0.084978   \n",
       "\n",
       "           PC6       PC7       PC8 label  \n",
       "0    -0.004461 -0.014771  0.003977    AJ  \n",
       "1    -0.005778 -0.021555 -0.011962    AJ  \n",
       "2     0.019479 -0.041475 -0.008812    AJ  \n",
       "3    -0.008589 -0.020816  0.015212    AJ  \n",
       "4    -0.015591 -0.026968  0.012325    AJ  \n",
       "...        ...       ...       ...   ...  \n",
       "2361 -0.017221 -0.012467  0.012442   new  \n",
       "2362  0.003473 -0.016081  0.009250   new  \n",
       "2363  0.005005 -0.015302  0.002239   new  \n",
       "2364 -0.020427 -0.009072 -0.014955   new  \n",
       "2365  0.006194 -0.007843  0.004105   new  \n",
       "\n",
       "[5341 rows x 11 columns]"
      ]
     },
     "execution_count": 27,
     "metadata": {},
     "output_type": "execute_result"
    }
   ],
   "source": [
    "projected = pd.read_csv(f'{geno_common_snps}.projections', sep='\\t')\n",
    "projected['label'] = 'new'\n",
    "total_pca = labeled_pca.append(projected)\n"
   ]
  },
  {
   "cell_type": "code",
   "execution_count": 13,
   "metadata": {},
   "outputs": [
    {
     "name": "stderr",
     "output_type": "stream",
     "text": [
      "*c* argument looks like a single numeric RGB or RGBA sequence, which should be avoided as value-mapping will have precedence in case its length matches with *x* & *y*.  Please use the *color* keyword-argument or provide a 2-D array with a single row if you intend to specify the same RGB or RGBA value for all points.\n",
      "*c* argument looks like a single numeric RGB or RGBA sequence, which should be avoided as value-mapping will have precedence in case its length matches with *x* & *y*.  Please use the *color* keyword-argument or provide a 2-D array with a single row if you intend to specify the same RGB or RGBA value for all points.\n",
      "*c* argument looks like a single numeric RGB or RGBA sequence, which should be avoided as value-mapping will have precedence in case its length matches with *x* & *y*.  Please use the *color* keyword-argument or provide a 2-D array with a single row if you intend to specify the same RGB or RGBA value for all points.\n",
      "*c* argument looks like a single numeric RGB or RGBA sequence, which should be avoided as value-mapping will have precedence in case its length matches with *x* & *y*.  Please use the *color* keyword-argument or provide a 2-D array with a single row if you intend to specify the same RGB or RGBA value for all points.\n",
      "*c* argument looks like a single numeric RGB or RGBA sequence, which should be avoided as value-mapping will have precedence in case its length matches with *x* & *y*.  Please use the *color* keyword-argument or provide a 2-D array with a single row if you intend to specify the same RGB or RGBA value for all points.\n",
      "*c* argument looks like a single numeric RGB or RGBA sequence, which should be avoided as value-mapping will have precedence in case its length matches with *x* & *y*.  Please use the *color* keyword-argument or provide a 2-D array with a single row if you intend to specify the same RGB or RGBA value for all points.\n",
      "*c* argument looks like a single numeric RGB or RGBA sequence, which should be avoided as value-mapping will have precedence in case its length matches with *x* & *y*.  Please use the *color* keyword-argument or provide a 2-D array with a single row if you intend to specify the same RGB or RGBA value for all points.\n",
      "*c* argument looks like a single numeric RGB or RGBA sequence, which should be avoided as value-mapping will have precedence in case its length matches with *x* & *y*.  Please use the *color* keyword-argument or provide a 2-D array with a single row if you intend to specify the same RGB or RGBA value for all points.\n",
      "*c* argument looks like a single numeric RGB or RGBA sequence, which should be avoided as value-mapping will have precedence in case its length matches with *x* & *y*.  Please use the *color* keyword-argument or provide a 2-D array with a single row if you intend to specify the same RGB or RGBA value for all points.\n"
     ]
    },
    {
     "data": {
      "image/png": "[encoded data removed]",
      "text/plain": [
       "<Figure size 576x576 with 1 Axes>"
      ]
     },
     "metadata": {
      "needs_background": "light"
     },
     "output_type": "display_data"
    }
   ],
   "source": [
    "plot_pcs(total_pca)"
   ]
  },
  {
   "cell_type": "code",
   "execution_count": 34,
   "metadata": {},
   "outputs": [
    {
     "name": "stderr",
     "output_type": "stream",
     "text": [
      "Executing: plink --bfile /data/vitaled2/test_data/mcgill/MCGILL_all_call_rate_sex_het_ancestry_prune2_common_snps --allow-no-sex --bmerge /data/vitaled2/test_data/mcgill/ref_panel_common_snps --out /data/vitaled2/test_data/mcgill/MCGILL_all_call_rate_sex_het_ancestry_prune2_merged_ref --make-bed\n",
      "Executing: plink --bfile /data/vitaled2/test_data/mcgill/MCGILL_all_call_rate_sex_het_ancestry_prune2_common_snps --allow-no-sex --flip /data/vitaled2/test_data/mcgill/MCGILL_all_call_rate_sex_het_ancestry_prune2_merged_ref-merge.missnp --make-bed --out /data/vitaled2/test_data/mcgill/MCGILL_all_call_rate_sex_het_ancestry_prune2_common_snps_flip\n",
      "Executing: plink --bfile /data/vitaled2/test_data/mcgill/MCGILL_all_call_rate_sex_het_ancestry_prune2_common_snps_flip --allow-no-sex --bmerge /data/vitaled2/test_data/mcgill/ref_panel_common_snps --out /data/vitaled2/test_data/mcgill/MCGILL_all_call_rate_sex_het_ancestry_prune2_merged_ref_flip --make-bed\n"
     ]
    }
   ],
   "source": [
    "# now merge ref and geno and run faststructure\n",
    "merged_ref_geno = f'{geno_ancestry_prune2}_merged_ref'\n",
    "total_pca[['FID', 'IID', 'label']].to_csv(f'{merged_ref_geno}.labels', sep='\\t')\n",
    "merge_genos(geno_common_snps, ref_panel_common_snps, merged_ref_geno)"
   ]
  },
  {
   "cell_type": "code",
   "execution_count": 38,
   "metadata": {},
   "outputs": [
    {
     "name": "stderr",
     "output_type": "stream",
     "text": [
      "Executing: swarm -f /data/vitaled2/test_data/mcgill/faststructure_choosek.swarm -g 16 --time=10:00:00 -t 20 --logdir /data/LNG/vitaled2/1kgenomes/swarm --partition=norm\n"
     ]
    }
   ],
   "source": [
    "# Now, test with faststructure\n",
    "ancestry_labels = f'{merged_ref_geno}.labels'\n",
    "structure_out = f'{merged_ref_geno}_structure'\n",
    "# fam = pd.read_csv(f'{ref_panel_prune_final}.fam', sep=' ', header=None)\n",
    "structure = f'/data/vitaled2/ref_panel/fastStructure/structure.py'\n",
    "\n",
    "\n",
    "# run for k=1-8 and use chooseK.py to select best\n",
    "fs_swarm_script = f'{out_path}/faststructure_choosek.swarm'\n",
    "with open(fs_swarm_script, 'w') as f:\n",
    "    for k in range(1,9):\n",
    "        fs_cmd = f'bash /data/vitaled2/GWAS/gwas/faststructure_setup_and_run.sh -i {merged_ref_geno} -o {structure_out} -f {structure} -k {k}'\n",
    "        f.write(f'{fs_cmd}\\n')\n",
    "    f.close()\n",
    "\n",
    "shell_do(f'swarm -f {fs_swarm_script} -g 16 --time=10:00:00 -t 20 --logdir {ref_dir_path}/swarm --partition=norm')"
   ]
  },
  {
   "cell_type": "code",
   "execution_count": 37,
   "metadata": {},
   "outputs": [
    {
     "name": "stdout",
     "output_type": "stream",
     "text": [
      "bash /data/vitaled2/GWAS/gwas/faststructure_setup_and_run.sh -i /data/vitaled2/test_data/mcgill/MCGILL_all_call_rate_sex_het_ancestry_prune2_merged_ref -o /data/vitaled2/test_data/mcgill/MCGILL_all_call_rate_sex_het_ancestry_prune2_merged_ref_structure -f /data/vitaled2/ref_panel/fastStructure/structure.py -k 1\n",
      "bash /data/vitaled2/GWAS/gwas/faststructure_setup_and_run.sh -i /data/vitaled2/test_data/mcgill/MCGILL_all_call_rate_sex_het_ancestry_prune2_merged_ref -o /data/vitaled2/test_data/mcgill/MCGILL_all_call_rate_sex_het_ancestry_prune2_merged_ref_structure -f /data/vitaled2/ref_panel/fastStructure/structure.py -k 2\n",
      "bash /data/vitaled2/GWAS/gwas/faststructure_setup_and_run.sh -i /data/vitaled2/test_data/mcgill/MCGILL_all_call_rate_sex_het_ancestry_prune2_merged_ref -o /data/vitaled2/test_data/mcgill/MCGILL_all_call_rate_sex_het_ancestry_prune2_merged_ref_structure -f /data/vitaled2/ref_panel/fastStructure/structure.py -k 3\n",
      "bash /data/vitaled2/GWAS/gwas/faststructure_setup_and_run.sh -i /data/vitaled2/test_data/mcgill/MCGILL_all_call_rate_sex_het_ancestry_prune2_merged_ref -o /data/vitaled2/test_data/mcgill/MCGILL_all_call_rate_sex_het_ancestry_prune2_merged_ref_structure -f /data/vitaled2/ref_panel/fastStructure/structure.py -k 4\n",
      "bash /data/vitaled2/GWAS/gwas/faststructure_setup_and_run.sh -i /data/vitaled2/test_data/mcgill/MCGILL_all_call_rate_sex_het_ancestry_prune2_merged_ref -o /data/vitaled2/test_data/mcgill/MCGILL_all_call_rate_sex_het_ancestry_prune2_merged_ref_structure -f /data/vitaled2/ref_panel/fastStructure/structure.py -k 5\n",
      "bash /data/vitaled2/GWAS/gwas/faststructure_setup_and_run.sh -i /data/vitaled2/test_data/mcgill/MCGILL_all_call_rate_sex_het_ancestry_prune2_merged_ref -o /data/vitaled2/test_data/mcgill/MCGILL_all_call_rate_sex_het_ancestry_prune2_merged_ref_structure -f /data/vitaled2/ref_panel/fastStructure/structure.py -k 6\n",
      "bash /data/vitaled2/GWAS/gwas/faststructure_setup_and_run.sh -i /data/vitaled2/test_data/mcgill/MCGILL_all_call_rate_sex_het_ancestry_prune2_merged_ref -o /data/vitaled2/test_data/mcgill/MCGILL_all_call_rate_sex_het_ancestry_prune2_merged_ref_structure -f /data/vitaled2/ref_panel/fastStructure/structure.py -k 7\n",
      "bash /data/vitaled2/GWAS/gwas/faststructure_setup_and_run.sh -i /data/vitaled2/test_data/mcgill/MCGILL_all_call_rate_sex_het_ancestry_prune2_merged_ref -o /data/vitaled2/test_data/mcgill/MCGILL_all_call_rate_sex_het_ancestry_prune2_merged_ref_structure -f /data/vitaled2/ref_panel/fastStructure/structure.py -k 8\n"
     ]
    }
   ],
   "source": [
    "!cat {fs_swarm_script}"
   ]
  },
  {
   "cell_type": "code",
   "execution_count": 23,
   "metadata": {},
   "outputs": [
    {
     "name": "stdout",
     "output_type": "stream",
     "text": [
      "2366\n"
     ]
    }
   ],
   "source": [
    "\n"
   ]
  },
  {
   "cell_type": "code",
   "execution_count": 24,
   "metadata": {},
   "outputs": [
    {
     "name": "stdout",
     "output_type": "stream",
     "text": [
      "2975\n"
     ]
    }
   ],
   "source": []
  },
  {
   "cell_type": "code",
   "execution_count": 25,
   "metadata": {},
   "outputs": [
    {
     "data": {
      "text/plain": [
       "5341"
      ]
     },
     "execution_count": 25,
     "metadata": {},
     "output_type": "execute_result"
    }
   ],
   "source": []
  },
  {
   "cell_type": "code",
   "execution_count": 33,
   "metadata": {},
   "outputs": [
    {
     "name": "stdout",
     "output_type": "stream",
     "text": [
      ",FID,IID,label\n",
      "0,AJ,1A2,AJ\n",
      "1,AJ,1A3,AJ\n",
      "2,AJ,1A5,AJ\n",
      "3,AJ,1A6,AJ\n",
      "4,AJ,1A8,AJ\n",
      "5,AJ,1A12,AJ\n",
      "6,AJ,1B2,AJ\n",
      "7,AJ,1B3,AJ\n",
      "8,AJ,1B5,AJ\n"
     ]
    }
   ],
   "source": [
    "!head {merged_ref_geno}.labels"
   ]
  },
  {
   "cell_type": "code",
   "execution_count": null,
   "metadata": {},
   "outputs": [],
   "source": []
  }
 ],
 "metadata": {
  "kernelspec": {
   "display_name": "Python 3",
   "language": "python",
   "name": "python3"
  },
  "language_info": {
   "codemirror_mode": {
    "name": "ipython",
    "version": 3
   },
   "file_extension": ".py",
   "mimetype": "text/x-python",
   "name": "python",
   "nbconvert_exporter": "python",
   "pygments_lexer": "ipython3",
   "version": "3.6.7"
  }
 },
 "nbformat": 4,
 "nbformat_minor": 4
}
